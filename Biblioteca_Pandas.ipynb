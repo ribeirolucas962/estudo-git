{
 "cells": [
  {
   "cell_type": "markdown",
   "id": "72f8558c",
   "metadata": {},
   "source": [
    "# Aprofundado na biblioteca `pandas` do `Python`"
   ]
  },
  {
   "cell_type": "code",
   "execution_count": 56,
   "id": "691788bf",
   "metadata": {},
   "outputs": [],
   "source": [
    "# Importando a biblioteca pandas\n",
    "import pandas as pd"
   ]
  },
  {
   "cell_type": "code",
   "execution_count": 57,
   "id": "615d5789",
   "metadata": {},
   "outputs": [],
   "source": [
    "df = pd.DataFrame(\n",
    "    {\n",
    "        \"Name\":[\n",
    "            \"Lucas Ribeiro\",\n",
    "            \"Elenice Tizziani\",\n",
    "            \"Fernando Tizziani\",\n",
    "            \"Karem Nepomuceno\",\n",
    "            \"Ana Clara Nepomuceno\",\n",
    "            \"Paula vieira\",\n",
    "            \"Ciro Nepomuceno\",\n",
    "            \"Maria Eduarda Nepomuceno\",\n",
    "            \"JOse Caçdeira\",\n",
    "            \"Augusta Ribeiro\",\n",
    "\n",
    "    ],\n",
    "        \"idade\":[45, 48, 25, 12, 18, 45, 32, 16, 73, 70],\n",
    "        \"cidade\":[\n",
    "            \"Araçuai\",\"Capanema\",\n",
    "            \"Vilhena\",\"Vilhena\",\n",
    "            \"Belo Horizonte\",\"Rio de Janeiro\",\n",
    "            \"Araçuai\",\"Curitiba\",\n",
    "            \"Araçuai\",\"Araçuai\"\n",
    "        ],\n",
    "        \"estado\":[\n",
    "            \"MG\",\"PR\",\n",
    "            \"RO\",\"RO\",\n",
    "            \"MG\",\"RJ\",\n",
    "            \"MG\",\"PR\",\n",
    "            \"MG\",\"MG\",\n",
    "        ],\n",
    "        \"sexo\":[\n",
    "            \"M\",\"F\",\n",
    "            \"M\",\"F\",\n",
    "            \"F\",\"F\",\n",
    "            \"M\",\"F\",\n",
    "            \"M\",\"F\"\n",
    "        ],\n",
    "        \"grau de instrução\":[\n",
    "            \"Mestrado\",\"Doutorado\",\n",
    "            \"Superior Completo\",\"Ensino Médio\",\n",
    "            \"Superior Completo\",\"Ensino Médio\",\n",
    "            \"Ensino Fundamental Incompleto\",\"Ensino Médio\",\n",
    "            \"Ensino Fundamental Incompleto\",\"Ensino Fundamental Incompleto\"\n",
    "        ],\n",
    "\n",
    "\n",
    "}\n",
    ")"
   ]
  },
  {
   "cell_type": "code",
   "execution_count": 58,
   "id": "79f20b86",
   "metadata": {},
   "outputs": [
    {
     "data": {
      "application/vnd.microsoft.datawrangler.viewer.v0+json": {
       "columns": [
        {
         "name": "index",
         "rawType": "int64",
         "type": "integer"
        },
        {
         "name": "Name",
         "rawType": "object",
         "type": "string"
        },
        {
         "name": "idade",
         "rawType": "int64",
         "type": "integer"
        },
        {
         "name": "cidade",
         "rawType": "object",
         "type": "string"
        },
        {
         "name": "estado",
         "rawType": "object",
         "type": "string"
        },
        {
         "name": "sexo",
         "rawType": "object",
         "type": "string"
        },
        {
         "name": "grau de instrução",
         "rawType": "object",
         "type": "string"
        }
       ],
       "ref": "461e6bcc-97c9-4c3c-89bf-89e5156c4870",
       "rows": [
        [
         "0",
         "Lucas Ribeiro",
         "45",
         "Araçuai",
         "MG",
         "M",
         "Mestrado"
        ],
        [
         "1",
         "Elenice Tizziani",
         "48",
         "Capanema",
         "PR",
         "F",
         "Doutorado"
        ],
        [
         "2",
         "Fernando Tizziani",
         "25",
         "Vilhena",
         "RO",
         "M",
         "Superior Completo"
        ],
        [
         "3",
         "Karem Nepomuceno",
         "12",
         "Vilhena",
         "RO",
         "F",
         "Ensino Médio"
        ],
        [
         "4",
         "Ana Clara Nepomuceno",
         "18",
         "Belo Horizonte",
         "MG",
         "F",
         "Superior Completo"
        ],
        [
         "5",
         "Paula vieira",
         "45",
         "Rio de Janeiro",
         "RJ",
         "F",
         "Ensino Médio"
        ],
        [
         "6",
         "Ciro Nepomuceno",
         "32",
         "Araçuai",
         "MG",
         "M",
         "Ensino Fundamental Incompleto"
        ],
        [
         "7",
         "Maria Eduarda Nepomuceno",
         "16",
         "Curitiba",
         "PR",
         "F",
         "Ensino Médio"
        ],
        [
         "8",
         "JOse Caçdeira",
         "73",
         "Araçuai",
         "MG",
         "M",
         "Ensino Fundamental Incompleto"
        ],
        [
         "9",
         "Augusta Ribeiro",
         "70",
         "Araçuai",
         "MG",
         "F",
         "Ensino Fundamental Incompleto"
        ]
       ],
       "shape": {
        "columns": 6,
        "rows": 10
       }
      },
      "text/html": [
       "<div>\n",
       "<style scoped>\n",
       "    .dataframe tbody tr th:only-of-type {\n",
       "        vertical-align: middle;\n",
       "    }\n",
       "\n",
       "    .dataframe tbody tr th {\n",
       "        vertical-align: top;\n",
       "    }\n",
       "\n",
       "    .dataframe thead th {\n",
       "        text-align: right;\n",
       "    }\n",
       "</style>\n",
       "<table border=\"1\" class=\"dataframe\">\n",
       "  <thead>\n",
       "    <tr style=\"text-align: right;\">\n",
       "      <th></th>\n",
       "      <th>Name</th>\n",
       "      <th>idade</th>\n",
       "      <th>cidade</th>\n",
       "      <th>estado</th>\n",
       "      <th>sexo</th>\n",
       "      <th>grau de instrução</th>\n",
       "    </tr>\n",
       "  </thead>\n",
       "  <tbody>\n",
       "    <tr>\n",
       "      <th>0</th>\n",
       "      <td>Lucas Ribeiro</td>\n",
       "      <td>45</td>\n",
       "      <td>Araçuai</td>\n",
       "      <td>MG</td>\n",
       "      <td>M</td>\n",
       "      <td>Mestrado</td>\n",
       "    </tr>\n",
       "    <tr>\n",
       "      <th>1</th>\n",
       "      <td>Elenice Tizziani</td>\n",
       "      <td>48</td>\n",
       "      <td>Capanema</td>\n",
       "      <td>PR</td>\n",
       "      <td>F</td>\n",
       "      <td>Doutorado</td>\n",
       "    </tr>\n",
       "    <tr>\n",
       "      <th>2</th>\n",
       "      <td>Fernando Tizziani</td>\n",
       "      <td>25</td>\n",
       "      <td>Vilhena</td>\n",
       "      <td>RO</td>\n",
       "      <td>M</td>\n",
       "      <td>Superior Completo</td>\n",
       "    </tr>\n",
       "    <tr>\n",
       "      <th>3</th>\n",
       "      <td>Karem Nepomuceno</td>\n",
       "      <td>12</td>\n",
       "      <td>Vilhena</td>\n",
       "      <td>RO</td>\n",
       "      <td>F</td>\n",
       "      <td>Ensino Médio</td>\n",
       "    </tr>\n",
       "    <tr>\n",
       "      <th>4</th>\n",
       "      <td>Ana Clara Nepomuceno</td>\n",
       "      <td>18</td>\n",
       "      <td>Belo Horizonte</td>\n",
       "      <td>MG</td>\n",
       "      <td>F</td>\n",
       "      <td>Superior Completo</td>\n",
       "    </tr>\n",
       "    <tr>\n",
       "      <th>5</th>\n",
       "      <td>Paula vieira</td>\n",
       "      <td>45</td>\n",
       "      <td>Rio de Janeiro</td>\n",
       "      <td>RJ</td>\n",
       "      <td>F</td>\n",
       "      <td>Ensino Médio</td>\n",
       "    </tr>\n",
       "    <tr>\n",
       "      <th>6</th>\n",
       "      <td>Ciro Nepomuceno</td>\n",
       "      <td>32</td>\n",
       "      <td>Araçuai</td>\n",
       "      <td>MG</td>\n",
       "      <td>M</td>\n",
       "      <td>Ensino Fundamental Incompleto</td>\n",
       "    </tr>\n",
       "    <tr>\n",
       "      <th>7</th>\n",
       "      <td>Maria Eduarda Nepomuceno</td>\n",
       "      <td>16</td>\n",
       "      <td>Curitiba</td>\n",
       "      <td>PR</td>\n",
       "      <td>F</td>\n",
       "      <td>Ensino Médio</td>\n",
       "    </tr>\n",
       "    <tr>\n",
       "      <th>8</th>\n",
       "      <td>JOse Caçdeira</td>\n",
       "      <td>73</td>\n",
       "      <td>Araçuai</td>\n",
       "      <td>MG</td>\n",
       "      <td>M</td>\n",
       "      <td>Ensino Fundamental Incompleto</td>\n",
       "    </tr>\n",
       "    <tr>\n",
       "      <th>9</th>\n",
       "      <td>Augusta Ribeiro</td>\n",
       "      <td>70</td>\n",
       "      <td>Araçuai</td>\n",
       "      <td>MG</td>\n",
       "      <td>F</td>\n",
       "      <td>Ensino Fundamental Incompleto</td>\n",
       "    </tr>\n",
       "  </tbody>\n",
       "</table>\n",
       "</div>"
      ],
      "text/plain": [
       "                       Name  idade          cidade estado sexo  \\\n",
       "0             Lucas Ribeiro     45         Araçuai     MG    M   \n",
       "1          Elenice Tizziani     48        Capanema     PR    F   \n",
       "2         Fernando Tizziani     25         Vilhena     RO    M   \n",
       "3          Karem Nepomuceno     12         Vilhena     RO    F   \n",
       "4      Ana Clara Nepomuceno     18  Belo Horizonte     MG    F   \n",
       "5              Paula vieira     45  Rio de Janeiro     RJ    F   \n",
       "6           Ciro Nepomuceno     32         Araçuai     MG    M   \n",
       "7  Maria Eduarda Nepomuceno     16        Curitiba     PR    F   \n",
       "8             JOse Caçdeira     73         Araçuai     MG    M   \n",
       "9           Augusta Ribeiro     70         Araçuai     MG    F   \n",
       "\n",
       "               grau de instrução  \n",
       "0                       Mestrado  \n",
       "1                      Doutorado  \n",
       "2              Superior Completo  \n",
       "3                   Ensino Médio  \n",
       "4              Superior Completo  \n",
       "5                   Ensino Médio  \n",
       "6  Ensino Fundamental Incompleto  \n",
       "7                   Ensino Médio  \n",
       "8  Ensino Fundamental Incompleto  \n",
       "9  Ensino Fundamental Incompleto  "
      ]
     },
     "execution_count": 58,
     "metadata": {},
     "output_type": "execute_result"
    }
   ],
   "source": [
    "df"
   ]
  },
  {
   "cell_type": "code",
   "execution_count": 59,
   "id": "d0e89aaf",
   "metadata": {},
   "outputs": [
    {
     "data": {
      "application/vnd.microsoft.datawrangler.viewer.v0+json": {
       "columns": [
        {
         "name": "index",
         "rawType": "int64",
         "type": "integer"
        },
        {
         "name": "idade",
         "rawType": "int64",
         "type": "integer"
        }
       ],
       "ref": "bf4cedfe-da55-41c1-8633-ecd2e8f0c27b",
       "rows": [
        [
         "0",
         "45"
        ],
        [
         "1",
         "48"
        ],
        [
         "2",
         "25"
        ],
        [
         "3",
         "12"
        ],
        [
         "4",
         "18"
        ],
        [
         "5",
         "45"
        ],
        [
         "6",
         "32"
        ],
        [
         "7",
         "16"
        ],
        [
         "8",
         "73"
        ],
        [
         "9",
         "70"
        ]
       ],
       "shape": {
        "columns": 1,
        "rows": 10
       }
      },
      "text/plain": [
       "0    45\n",
       "1    48\n",
       "2    25\n",
       "3    12\n",
       "4    18\n",
       "5    45\n",
       "6    32\n",
       "7    16\n",
       "8    73\n",
       "9    70\n",
       "Name: idade, dtype: int64"
      ]
     },
     "execution_count": 59,
     "metadata": {},
     "output_type": "execute_result"
    }
   ],
   "source": [
    "df[\"idade\"]"
   ]
  },
  {
   "cell_type": "code",
   "execution_count": 60,
   "id": "7ad233d8",
   "metadata": {},
   "outputs": [
    {
     "data": {
      "application/vnd.microsoft.datawrangler.viewer.v0+json": {
       "columns": [
        {
         "name": "index",
         "rawType": "int64",
         "type": "integer"
        },
        {
         "name": "idade",
         "rawType": "int64",
         "type": "integer"
        },
        {
         "name": "cidade",
         "rawType": "object",
         "type": "string"
        },
        {
         "name": "estado",
         "rawType": "object",
         "type": "string"
        }
       ],
       "ref": "53d037b1-4dd1-450a-877e-23eb1a978a27",
       "rows": [
        [
         "0",
         "45",
         "Araçuai",
         "MG"
        ],
        [
         "1",
         "48",
         "Capanema",
         "PR"
        ],
        [
         "2",
         "25",
         "Vilhena",
         "RO"
        ],
        [
         "3",
         "12",
         "Vilhena",
         "RO"
        ],
        [
         "4",
         "18",
         "Belo Horizonte",
         "MG"
        ],
        [
         "5",
         "45",
         "Rio de Janeiro",
         "RJ"
        ],
        [
         "6",
         "32",
         "Araçuai",
         "MG"
        ],
        [
         "7",
         "16",
         "Curitiba",
         "PR"
        ],
        [
         "8",
         "73",
         "Araçuai",
         "MG"
        ],
        [
         "9",
         "70",
         "Araçuai",
         "MG"
        ]
       ],
       "shape": {
        "columns": 3,
        "rows": 10
       }
      },
      "text/html": [
       "<div>\n",
       "<style scoped>\n",
       "    .dataframe tbody tr th:only-of-type {\n",
       "        vertical-align: middle;\n",
       "    }\n",
       "\n",
       "    .dataframe tbody tr th {\n",
       "        vertical-align: top;\n",
       "    }\n",
       "\n",
       "    .dataframe thead th {\n",
       "        text-align: right;\n",
       "    }\n",
       "</style>\n",
       "<table border=\"1\" class=\"dataframe\">\n",
       "  <thead>\n",
       "    <tr style=\"text-align: right;\">\n",
       "      <th></th>\n",
       "      <th>idade</th>\n",
       "      <th>cidade</th>\n",
       "      <th>estado</th>\n",
       "    </tr>\n",
       "  </thead>\n",
       "  <tbody>\n",
       "    <tr>\n",
       "      <th>0</th>\n",
       "      <td>45</td>\n",
       "      <td>Araçuai</td>\n",
       "      <td>MG</td>\n",
       "    </tr>\n",
       "    <tr>\n",
       "      <th>1</th>\n",
       "      <td>48</td>\n",
       "      <td>Capanema</td>\n",
       "      <td>PR</td>\n",
       "    </tr>\n",
       "    <tr>\n",
       "      <th>2</th>\n",
       "      <td>25</td>\n",
       "      <td>Vilhena</td>\n",
       "      <td>RO</td>\n",
       "    </tr>\n",
       "    <tr>\n",
       "      <th>3</th>\n",
       "      <td>12</td>\n",
       "      <td>Vilhena</td>\n",
       "      <td>RO</td>\n",
       "    </tr>\n",
       "    <tr>\n",
       "      <th>4</th>\n",
       "      <td>18</td>\n",
       "      <td>Belo Horizonte</td>\n",
       "      <td>MG</td>\n",
       "    </tr>\n",
       "    <tr>\n",
       "      <th>5</th>\n",
       "      <td>45</td>\n",
       "      <td>Rio de Janeiro</td>\n",
       "      <td>RJ</td>\n",
       "    </tr>\n",
       "    <tr>\n",
       "      <th>6</th>\n",
       "      <td>32</td>\n",
       "      <td>Araçuai</td>\n",
       "      <td>MG</td>\n",
       "    </tr>\n",
       "    <tr>\n",
       "      <th>7</th>\n",
       "      <td>16</td>\n",
       "      <td>Curitiba</td>\n",
       "      <td>PR</td>\n",
       "    </tr>\n",
       "    <tr>\n",
       "      <th>8</th>\n",
       "      <td>73</td>\n",
       "      <td>Araçuai</td>\n",
       "      <td>MG</td>\n",
       "    </tr>\n",
       "    <tr>\n",
       "      <th>9</th>\n",
       "      <td>70</td>\n",
       "      <td>Araçuai</td>\n",
       "      <td>MG</td>\n",
       "    </tr>\n",
       "  </tbody>\n",
       "</table>\n",
       "</div>"
      ],
      "text/plain": [
       "   idade          cidade estado\n",
       "0     45         Araçuai     MG\n",
       "1     48        Capanema     PR\n",
       "2     25         Vilhena     RO\n",
       "3     12         Vilhena     RO\n",
       "4     18  Belo Horizonte     MG\n",
       "5     45  Rio de Janeiro     RJ\n",
       "6     32         Araçuai     MG\n",
       "7     16        Curitiba     PR\n",
       "8     73         Araçuai     MG\n",
       "9     70         Araçuai     MG"
      ]
     },
     "execution_count": 60,
     "metadata": {},
     "output_type": "execute_result"
    }
   ],
   "source": [
    "df[[\"idade\", \"cidade\", \"estado\"]]"
   ]
  },
  {
   "cell_type": "code",
   "execution_count": 61,
   "id": "cf7483d7",
   "metadata": {},
   "outputs": [
    {
     "data": {
      "application/vnd.microsoft.datawrangler.viewer.v0+json": {
       "columns": [
        {
         "name": "index",
         "rawType": "int64",
         "type": "integer"
        },
        {
         "name": "0",
         "rawType": "int64",
         "type": "integer"
        }
       ],
       "ref": "908c9c44-158c-4cd0-b0df-dfb2f4d63672",
       "rows": [
        [
         "0",
         "45"
        ],
        [
         "1",
         "48"
        ],
        [
         "2",
         "25"
        ],
        [
         "3",
         "12"
        ],
        [
         "4",
         "18"
        ],
        [
         "5",
         "45"
        ],
        [
         "6",
         "80"
        ],
        [
         "7",
         "16"
        ],
        [
         "8",
         "73"
        ],
        [
         "9",
         "70"
        ]
       ],
       "shape": {
        "columns": 1,
        "rows": 10
       }
      },
      "text/plain": [
       "0    45\n",
       "1    48\n",
       "2    25\n",
       "3    12\n",
       "4    18\n",
       "5    45\n",
       "6    80\n",
       "7    16\n",
       "8    73\n",
       "9    70\n",
       "dtype: int64"
      ]
     },
     "execution_count": 61,
     "metadata": {},
     "output_type": "execute_result"
    }
   ],
   "source": [
    "# Series também pode criar um do zero:\n",
    "idade = pd.Series([45, 48, 25, 12, 18, 45, 80, 16, 73, 70])\n",
    "idade"
   ]
  },
  {
   "cell_type": "code",
   "execution_count": 62,
   "id": "05c2b525",
   "metadata": {},
   "outputs": [
    {
     "data": {
      "text/plain": [
       "np.int64(73)"
      ]
     },
     "execution_count": 62,
     "metadata": {},
     "output_type": "execute_result"
    }
   ],
   "source": [
    "# saber a idade maxima\n",
    "df[\"idade\"].max()"
   ]
  },
  {
   "cell_type": "code",
   "execution_count": 63,
   "id": "a0e1fc90",
   "metadata": {},
   "outputs": [
    {
     "data": {
      "application/vnd.microsoft.datawrangler.viewer.v0+json": {
       "columns": [
        {
         "name": "index",
         "rawType": "object",
         "type": "string"
        },
        {
         "name": "idade",
         "rawType": "float64",
         "type": "float"
        }
       ],
       "ref": "08e3386f-f175-4d9f-bfb4-9d330b46f11b",
       "rows": [
        [
         "count",
         "10.0"
        ],
        [
         "mean",
         "38.4"
        ],
        [
         "std",
         "21.629198372159387"
        ],
        [
         "min",
         "12.0"
        ],
        [
         "25%",
         "19.75"
        ],
        [
         "50%",
         "38.5"
        ],
        [
         "75%",
         "47.25"
        ],
        [
         "max",
         "73.0"
        ]
       ],
       "shape": {
        "columns": 1,
        "rows": 8
       }
      },
      "text/html": [
       "<div>\n",
       "<style scoped>\n",
       "    .dataframe tbody tr th:only-of-type {\n",
       "        vertical-align: middle;\n",
       "    }\n",
       "\n",
       "    .dataframe tbody tr th {\n",
       "        vertical-align: top;\n",
       "    }\n",
       "\n",
       "    .dataframe thead th {\n",
       "        text-align: right;\n",
       "    }\n",
       "</style>\n",
       "<table border=\"1\" class=\"dataframe\">\n",
       "  <thead>\n",
       "    <tr style=\"text-align: right;\">\n",
       "      <th></th>\n",
       "      <th>idade</th>\n",
       "    </tr>\n",
       "  </thead>\n",
       "  <tbody>\n",
       "    <tr>\n",
       "      <th>count</th>\n",
       "      <td>10.000000</td>\n",
       "    </tr>\n",
       "    <tr>\n",
       "      <th>mean</th>\n",
       "      <td>38.400000</td>\n",
       "    </tr>\n",
       "    <tr>\n",
       "      <th>std</th>\n",
       "      <td>21.629198</td>\n",
       "    </tr>\n",
       "    <tr>\n",
       "      <th>min</th>\n",
       "      <td>12.000000</td>\n",
       "    </tr>\n",
       "    <tr>\n",
       "      <th>25%</th>\n",
       "      <td>19.750000</td>\n",
       "    </tr>\n",
       "    <tr>\n",
       "      <th>50%</th>\n",
       "      <td>38.500000</td>\n",
       "    </tr>\n",
       "    <tr>\n",
       "      <th>75%</th>\n",
       "      <td>47.250000</td>\n",
       "    </tr>\n",
       "    <tr>\n",
       "      <th>max</th>\n",
       "      <td>73.000000</td>\n",
       "    </tr>\n",
       "  </tbody>\n",
       "</table>\n",
       "</div>"
      ],
      "text/plain": [
       "           idade\n",
       "count  10.000000\n",
       "mean   38.400000\n",
       "std    21.629198\n",
       "min    12.000000\n",
       "25%    19.750000\n",
       "50%    38.500000\n",
       "75%    47.250000\n",
       "max    73.000000"
      ]
     },
     "execution_count": 63,
     "metadata": {},
     "output_type": "execute_result"
    }
   ],
   "source": [
    "# imformações estatisticas basicas do dataframe\n",
    "df.describe()"
   ]
  },
  {
   "cell_type": "markdown",
   "id": "59db14d0",
   "metadata": {},
   "source": [
    "# Lendo dados tabulares com a biblioteca `pandas`\n",
    "O pandas fornece a read_csv()função de ler dados armazenados como um arquivo csv em um pandas DataFrame. \n",
    "O pandas suporta muitos formatos de arquivo ou fontes de dados diferentes prontos para uso (csv, excel, sql, json, parquet, …),\n",
    " cada um deles com o prefixo read_*.csv()é um dos mais comuns, então vamos ver como ele funciona.\n"
   ]
  },
  {
   "cell_type": "code",
   "execution_count": 64,
   "id": "2e3fb3fc",
   "metadata": {},
   "outputs": [
    {
     "data": {
      "application/vnd.microsoft.datawrangler.viewer.v0+json": {
       "columns": [
        {
         "name": "index",
         "rawType": "int64",
         "type": "integer"
        },
        {
         "name": "pclass",
         "rawType": "int64",
         "type": "integer"
        },
        {
         "name": "survived",
         "rawType": "int64",
         "type": "integer"
        },
        {
         "name": "name",
         "rawType": "object",
         "type": "string"
        },
        {
         "name": "sex",
         "rawType": "object",
         "type": "string"
        },
        {
         "name": "age",
         "rawType": "object",
         "type": "string"
        },
        {
         "name": "sibsp",
         "rawType": "int64",
         "type": "integer"
        },
        {
         "name": "parch",
         "rawType": "int64",
         "type": "integer"
        },
        {
         "name": "ticket",
         "rawType": "object",
         "type": "string"
        },
        {
         "name": "fare",
         "rawType": "object",
         "type": "string"
        },
        {
         "name": "cabin",
         "rawType": "object",
         "type": "string"
        },
        {
         "name": "embarked",
         "rawType": "object",
         "type": "string"
        },
        {
         "name": "boat",
         "rawType": "object",
         "type": "string"
        },
        {
         "name": "body",
         "rawType": "object",
         "type": "string"
        },
        {
         "name": "home.dest",
         "rawType": "object",
         "type": "string"
        }
       ],
       "ref": "a15609ce-4d86-47ea-ba55-0d6d31f03726",
       "rows": [
        [
         "0",
         "1",
         "1",
         "Allen, Miss. Elisabeth Walton",
         "female",
         "29",
         "0",
         "0",
         "24160",
         "211.3375",
         "B5",
         "S",
         "2",
         "?",
         "St Louis, MO"
        ],
        [
         "1",
         "1",
         "1",
         "Allison, Master. Hudson Trevor",
         "male",
         "0.9167",
         "1",
         "2",
         "113781",
         "151.55",
         "C22 C26",
         "S",
         "11",
         "?",
         "Montreal, PQ / Chesterville, ON"
        ],
        [
         "2",
         "1",
         "0",
         "Allison, Miss. Helen Loraine",
         "female",
         "2",
         "1",
         "2",
         "113781",
         "151.55",
         "C22 C26",
         "S",
         "?",
         "?",
         "Montreal, PQ / Chesterville, ON"
        ],
        [
         "3",
         "1",
         "0",
         "Allison, Mr. Hudson Joshua Creighton",
         "male",
         "30",
         "1",
         "2",
         "113781",
         "151.55",
         "C22 C26",
         "S",
         "?",
         "135",
         "Montreal, PQ / Chesterville, ON"
        ],
        [
         "4",
         "1",
         "0",
         "Allison, Mrs. Hudson J C (Bessie Waldo Daniels)",
         "female",
         "25",
         "1",
         "2",
         "113781",
         "151.55",
         "C22 C26",
         "S",
         "?",
         "?",
         "Montreal, PQ / Chesterville, ON"
        ],
        [
         "5",
         "1",
         "1",
         "Anderson, Mr. Harry",
         "male",
         "48",
         "0",
         "0",
         "19952",
         "26.55",
         "E12",
         "S",
         "3",
         "?",
         "New York, NY"
        ],
        [
         "6",
         "1",
         "1",
         "Andrews, Miss. Kornelia Theodosia",
         "female",
         "63",
         "1",
         "0",
         "13502",
         "77.9583",
         "D7",
         "S",
         "10",
         "?",
         "Hudson, NY"
        ],
        [
         "7",
         "1",
         "0",
         "Andrews, Mr. Thomas Jr",
         "male",
         "39",
         "0",
         "0",
         "112050",
         "0",
         "A36",
         "S",
         "?",
         "?",
         "Belfast, NI"
        ],
        [
         "8",
         "1",
         "1",
         "Appleton, Mrs. Edward Dale (Charlotte Lamson)",
         "female",
         "53",
         "2",
         "0",
         "11769",
         "51.4792",
         "C101",
         "S",
         "D",
         "?",
         "Bayside, Queens, NY"
        ],
        [
         "9",
         "1",
         "0",
         "Artagaveytia, Mr. Ramon",
         "male",
         "71",
         "0",
         "0",
         "PC 17609",
         "49.5042",
         "?",
         "C",
         "?",
         "22",
         "Montevideo, Uruguay"
        ]
       ],
       "shape": {
        "columns": 14,
        "rows": 10
       }
      },
      "text/html": [
       "<div>\n",
       "<style scoped>\n",
       "    .dataframe tbody tr th:only-of-type {\n",
       "        vertical-align: middle;\n",
       "    }\n",
       "\n",
       "    .dataframe tbody tr th {\n",
       "        vertical-align: top;\n",
       "    }\n",
       "\n",
       "    .dataframe thead th {\n",
       "        text-align: right;\n",
       "    }\n",
       "</style>\n",
       "<table border=\"1\" class=\"dataframe\">\n",
       "  <thead>\n",
       "    <tr style=\"text-align: right;\">\n",
       "      <th></th>\n",
       "      <th>pclass</th>\n",
       "      <th>survived</th>\n",
       "      <th>name</th>\n",
       "      <th>sex</th>\n",
       "      <th>age</th>\n",
       "      <th>sibsp</th>\n",
       "      <th>parch</th>\n",
       "      <th>ticket</th>\n",
       "      <th>fare</th>\n",
       "      <th>cabin</th>\n",
       "      <th>embarked</th>\n",
       "      <th>boat</th>\n",
       "      <th>body</th>\n",
       "      <th>home.dest</th>\n",
       "    </tr>\n",
       "  </thead>\n",
       "  <tbody>\n",
       "    <tr>\n",
       "      <th>0</th>\n",
       "      <td>1</td>\n",
       "      <td>1</td>\n",
       "      <td>Allen, Miss. Elisabeth Walton</td>\n",
       "      <td>female</td>\n",
       "      <td>29</td>\n",
       "      <td>0</td>\n",
       "      <td>0</td>\n",
       "      <td>24160</td>\n",
       "      <td>211.3375</td>\n",
       "      <td>B5</td>\n",
       "      <td>S</td>\n",
       "      <td>2</td>\n",
       "      <td>?</td>\n",
       "      <td>St Louis, MO</td>\n",
       "    </tr>\n",
       "    <tr>\n",
       "      <th>1</th>\n",
       "      <td>1</td>\n",
       "      <td>1</td>\n",
       "      <td>Allison, Master. Hudson Trevor</td>\n",
       "      <td>male</td>\n",
       "      <td>0.9167</td>\n",
       "      <td>1</td>\n",
       "      <td>2</td>\n",
       "      <td>113781</td>\n",
       "      <td>151.55</td>\n",
       "      <td>C22 C26</td>\n",
       "      <td>S</td>\n",
       "      <td>11</td>\n",
       "      <td>?</td>\n",
       "      <td>Montreal, PQ / Chesterville, ON</td>\n",
       "    </tr>\n",
       "    <tr>\n",
       "      <th>2</th>\n",
       "      <td>1</td>\n",
       "      <td>0</td>\n",
       "      <td>Allison, Miss. Helen Loraine</td>\n",
       "      <td>female</td>\n",
       "      <td>2</td>\n",
       "      <td>1</td>\n",
       "      <td>2</td>\n",
       "      <td>113781</td>\n",
       "      <td>151.55</td>\n",
       "      <td>C22 C26</td>\n",
       "      <td>S</td>\n",
       "      <td>?</td>\n",
       "      <td>?</td>\n",
       "      <td>Montreal, PQ / Chesterville, ON</td>\n",
       "    </tr>\n",
       "    <tr>\n",
       "      <th>3</th>\n",
       "      <td>1</td>\n",
       "      <td>0</td>\n",
       "      <td>Allison, Mr. Hudson Joshua Creighton</td>\n",
       "      <td>male</td>\n",
       "      <td>30</td>\n",
       "      <td>1</td>\n",
       "      <td>2</td>\n",
       "      <td>113781</td>\n",
       "      <td>151.55</td>\n",
       "      <td>C22 C26</td>\n",
       "      <td>S</td>\n",
       "      <td>?</td>\n",
       "      <td>135</td>\n",
       "      <td>Montreal, PQ / Chesterville, ON</td>\n",
       "    </tr>\n",
       "    <tr>\n",
       "      <th>4</th>\n",
       "      <td>1</td>\n",
       "      <td>0</td>\n",
       "      <td>Allison, Mrs. Hudson J C (Bessie Waldo Daniels)</td>\n",
       "      <td>female</td>\n",
       "      <td>25</td>\n",
       "      <td>1</td>\n",
       "      <td>2</td>\n",
       "      <td>113781</td>\n",
       "      <td>151.55</td>\n",
       "      <td>C22 C26</td>\n",
       "      <td>S</td>\n",
       "      <td>?</td>\n",
       "      <td>?</td>\n",
       "      <td>Montreal, PQ / Chesterville, ON</td>\n",
       "    </tr>\n",
       "    <tr>\n",
       "      <th>5</th>\n",
       "      <td>1</td>\n",
       "      <td>1</td>\n",
       "      <td>Anderson, Mr. Harry</td>\n",
       "      <td>male</td>\n",
       "      <td>48</td>\n",
       "      <td>0</td>\n",
       "      <td>0</td>\n",
       "      <td>19952</td>\n",
       "      <td>26.55</td>\n",
       "      <td>E12</td>\n",
       "      <td>S</td>\n",
       "      <td>3</td>\n",
       "      <td>?</td>\n",
       "      <td>New York, NY</td>\n",
       "    </tr>\n",
       "    <tr>\n",
       "      <th>6</th>\n",
       "      <td>1</td>\n",
       "      <td>1</td>\n",
       "      <td>Andrews, Miss. Kornelia Theodosia</td>\n",
       "      <td>female</td>\n",
       "      <td>63</td>\n",
       "      <td>1</td>\n",
       "      <td>0</td>\n",
       "      <td>13502</td>\n",
       "      <td>77.9583</td>\n",
       "      <td>D7</td>\n",
       "      <td>S</td>\n",
       "      <td>10</td>\n",
       "      <td>?</td>\n",
       "      <td>Hudson, NY</td>\n",
       "    </tr>\n",
       "    <tr>\n",
       "      <th>7</th>\n",
       "      <td>1</td>\n",
       "      <td>0</td>\n",
       "      <td>Andrews, Mr. Thomas Jr</td>\n",
       "      <td>male</td>\n",
       "      <td>39</td>\n",
       "      <td>0</td>\n",
       "      <td>0</td>\n",
       "      <td>112050</td>\n",
       "      <td>0</td>\n",
       "      <td>A36</td>\n",
       "      <td>S</td>\n",
       "      <td>?</td>\n",
       "      <td>?</td>\n",
       "      <td>Belfast, NI</td>\n",
       "    </tr>\n",
       "    <tr>\n",
       "      <th>8</th>\n",
       "      <td>1</td>\n",
       "      <td>1</td>\n",
       "      <td>Appleton, Mrs. Edward Dale (Charlotte Lamson)</td>\n",
       "      <td>female</td>\n",
       "      <td>53</td>\n",
       "      <td>2</td>\n",
       "      <td>0</td>\n",
       "      <td>11769</td>\n",
       "      <td>51.4792</td>\n",
       "      <td>C101</td>\n",
       "      <td>S</td>\n",
       "      <td>D</td>\n",
       "      <td>?</td>\n",
       "      <td>Bayside, Queens, NY</td>\n",
       "    </tr>\n",
       "    <tr>\n",
       "      <th>9</th>\n",
       "      <td>1</td>\n",
       "      <td>0</td>\n",
       "      <td>Artagaveytia, Mr. Ramon</td>\n",
       "      <td>male</td>\n",
       "      <td>71</td>\n",
       "      <td>0</td>\n",
       "      <td>0</td>\n",
       "      <td>PC 17609</td>\n",
       "      <td>49.5042</td>\n",
       "      <td>?</td>\n",
       "      <td>C</td>\n",
       "      <td>?</td>\n",
       "      <td>22</td>\n",
       "      <td>Montevideo, Uruguay</td>\n",
       "    </tr>\n",
       "  </tbody>\n",
       "</table>\n",
       "</div>"
      ],
      "text/plain": [
       "   pclass  survived                                             name     sex  \\\n",
       "0       1         1                    Allen, Miss. Elisabeth Walton  female   \n",
       "1       1         1                   Allison, Master. Hudson Trevor    male   \n",
       "2       1         0                     Allison, Miss. Helen Loraine  female   \n",
       "3       1         0             Allison, Mr. Hudson Joshua Creighton    male   \n",
       "4       1         0  Allison, Mrs. Hudson J C (Bessie Waldo Daniels)  female   \n",
       "5       1         1                              Anderson, Mr. Harry    male   \n",
       "6       1         1                Andrews, Miss. Kornelia Theodosia  female   \n",
       "7       1         0                           Andrews, Mr. Thomas Jr    male   \n",
       "8       1         1    Appleton, Mrs. Edward Dale (Charlotte Lamson)  female   \n",
       "9       1         0                          Artagaveytia, Mr. Ramon    male   \n",
       "\n",
       "      age  sibsp  parch    ticket      fare    cabin embarked boat body  \\\n",
       "0      29      0      0     24160  211.3375       B5        S    2    ?   \n",
       "1  0.9167      1      2    113781    151.55  C22 C26        S   11    ?   \n",
       "2       2      1      2    113781    151.55  C22 C26        S    ?    ?   \n",
       "3      30      1      2    113781    151.55  C22 C26        S    ?  135   \n",
       "4      25      1      2    113781    151.55  C22 C26        S    ?    ?   \n",
       "5      48      0      0     19952     26.55      E12        S    3    ?   \n",
       "6      63      1      0     13502   77.9583       D7        S   10    ?   \n",
       "7      39      0      0    112050         0      A36        S    ?    ?   \n",
       "8      53      2      0     11769   51.4792     C101        S    D    ?   \n",
       "9      71      0      0  PC 17609   49.5042        ?        C    ?   22   \n",
       "\n",
       "                         home.dest  \n",
       "0                     St Louis, MO  \n",
       "1  Montreal, PQ / Chesterville, ON  \n",
       "2  Montreal, PQ / Chesterville, ON  \n",
       "3  Montreal, PQ / Chesterville, ON  \n",
       "4  Montreal, PQ / Chesterville, ON  \n",
       "5                     New York, NY  \n",
       "6                       Hudson, NY  \n",
       "7                      Belfast, NI  \n",
       "8              Bayside, Queens, NY  \n",
       "9              Montevideo, Uruguay  "
      ]
     },
     "execution_count": 64,
     "metadata": {},
     "output_type": "execute_result"
    }
   ],
   "source": [
    "titanic = pd.read_csv(\"datasets/titanic_completa_oficial.csv\")\n",
    "titanic.head(10)"
   ]
  },
  {
   "cell_type": "code",
   "execution_count": 65,
   "id": "5b979f32",
   "metadata": {},
   "outputs": [
    {
     "data": {
      "application/vnd.microsoft.datawrangler.viewer.v0+json": {
       "columns": [
        {
         "name": "index",
         "rawType": "object",
         "type": "string"
        },
        {
         "name": "0",
         "rawType": "object",
         "type": "unknown"
        }
       ],
       "ref": "b8bd86c9-b8a7-4afe-a2b8-3213eedd0168",
       "rows": [
        [
         "pclass",
         "int64"
        ],
        [
         "survived",
         "int64"
        ],
        [
         "name",
         "object"
        ],
        [
         "sex",
         "object"
        ],
        [
         "age",
         "object"
        ],
        [
         "sibsp",
         "int64"
        ],
        [
         "parch",
         "int64"
        ],
        [
         "ticket",
         "object"
        ],
        [
         "fare",
         "object"
        ],
        [
         "cabin",
         "object"
        ],
        [
         "embarked",
         "object"
        ],
        [
         "boat",
         "object"
        ],
        [
         "body",
         "object"
        ],
        [
         "home.dest",
         "object"
        ]
       ],
       "shape": {
        "columns": 1,
        "rows": 14
       }
      },
      "text/plain": [
       "pclass        int64\n",
       "survived      int64\n",
       "name         object\n",
       "sex          object\n",
       "age          object\n",
       "sibsp         int64\n",
       "parch         int64\n",
       "ticket       object\n",
       "fare         object\n",
       "cabin        object\n",
       "embarked     object\n",
       "boat         object\n",
       "body         object\n",
       "home.dest    object\n",
       "dtype: object"
      ]
     },
     "execution_count": 65,
     "metadata": {},
     "output_type": "execute_result"
    }
   ],
   "source": [
    "# intepretando dados tabulares com a biblioteca `pandas`\n",
    "titanic.dtypes"
   ]
  },
  {
   "cell_type": "code",
   "execution_count": 66,
   "id": "7d34be84",
   "metadata": {},
   "outputs": [
    {
     "name": "stdout",
     "output_type": "stream",
     "text": [
      "<class 'pandas.core.frame.DataFrame'>\n",
      "RangeIndex: 1309 entries, 0 to 1308\n",
      "Data columns (total 14 columns):\n",
      " #   Column     Non-Null Count  Dtype \n",
      "---  ------     --------------  ----- \n",
      " 0   pclass     1309 non-null   int64 \n",
      " 1   survived   1309 non-null   int64 \n",
      " 2   name       1309 non-null   object\n",
      " 3   sex        1309 non-null   object\n",
      " 4   age        1309 non-null   object\n",
      " 5   sibsp      1309 non-null   int64 \n",
      " 6   parch      1309 non-null   int64 \n",
      " 7   ticket     1309 non-null   object\n",
      " 8   fare       1309 non-null   object\n",
      " 9   cabin      1309 non-null   object\n",
      " 10  embarked   1309 non-null   object\n",
      " 11  boat       1309 non-null   object\n",
      " 12  body       1309 non-null   object\n",
      " 13  home.dest  1309 non-null   object\n",
      "dtypes: int64(4), object(10)\n",
      "memory usage: 143.3+ KB\n"
     ]
    }
   ],
   "source": [
    "# Resumo dos tipos de dados\n",
    "titanic.info()"
   ]
  },
  {
   "cell_type": "markdown",
   "id": "2c061929",
   "metadata": {},
   "source": [
    "# Seleionado subconjuntos no DataFrame\n"
   ]
  },
  {
   "cell_type": "code",
   "execution_count": 67,
   "id": "66d9df13",
   "metadata": {},
   "outputs": [
    {
     "data": {
      "application/vnd.microsoft.datawrangler.viewer.v0+json": {
       "columns": [
        {
         "name": "index",
         "rawType": "int64",
         "type": "integer"
        },
        {
         "name": "age",
         "rawType": "object",
         "type": "string"
        }
       ],
       "ref": "533e10e1-7503-4e96-8cac-e4e376b60763",
       "rows": [
        [
         "0",
         "29"
        ],
        [
         "1",
         "0.9167"
        ],
        [
         "2",
         "2"
        ],
        [
         "3",
         "30"
        ],
        [
         "4",
         "25"
        ],
        [
         "5",
         "48"
        ],
        [
         "6",
         "63"
        ],
        [
         "7",
         "39"
        ],
        [
         "8",
         "53"
        ],
        [
         "9",
         "71"
        ]
       ],
       "shape": {
        "columns": 1,
        "rows": 10
       }
      },
      "text/plain": [
       "0        29\n",
       "1    0.9167\n",
       "2         2\n",
       "3        30\n",
       "4        25\n",
       "5        48\n",
       "6        63\n",
       "7        39\n",
       "8        53\n",
       "9        71\n",
       "Name: age, dtype: object"
      ]
     },
     "execution_count": 67,
     "metadata": {},
     "output_type": "execute_result"
    }
   ],
   "source": [
    "# Lendo umas unica coluna\n",
    "age = titanic[\"age\"]\n",
    "age.head(10)"
   ]
  },
  {
   "cell_type": "code",
   "execution_count": 68,
   "id": "1c36786f",
   "metadata": {},
   "outputs": [
    {
     "data": {
      "text/plain": [
       "pandas.core.series.Series"
      ]
     },
     "execution_count": 68,
     "metadata": {},
     "output_type": "execute_result"
    }
   ],
   "source": [
    "#Verificndo o tipo de saida\n",
    "type(titanic[\"age\"])"
   ]
  },
  {
   "cell_type": "code",
   "execution_count": 69,
   "id": "202e6738",
   "metadata": {},
   "outputs": [
    {
     "data": {
      "text/plain": [
       "(1309,)"
      ]
     },
     "execution_count": 69,
     "metadata": {},
     "output_type": "execute_result"
    }
   ],
   "source": [
    "# verificnando o shape de saida\n",
    "titanic[\"age\"].shape"
   ]
  },
  {
   "cell_type": "code",
   "execution_count": 70,
   "id": "ca6c855c",
   "metadata": {},
   "outputs": [
    {
     "data": {
      "application/vnd.microsoft.datawrangler.viewer.v0+json": {
       "columns": [
        {
         "name": "index",
         "rawType": "int64",
         "type": "integer"
        },
        {
         "name": "age",
         "rawType": "object",
         "type": "string"
        },
        {
         "name": "sex",
         "rawType": "object",
         "type": "string"
        }
       ],
       "ref": "3ce94770-ee52-4af7-b71c-c5cae7f48cbc",
       "rows": [
        [
         "0",
         "29",
         "female"
        ],
        [
         "1",
         "0.9167",
         "male"
        ],
        [
         "2",
         "2",
         "female"
        ],
        [
         "3",
         "30",
         "male"
        ],
        [
         "4",
         "25",
         "female"
        ],
        [
         "5",
         "48",
         "male"
        ],
        [
         "6",
         "63",
         "female"
        ],
        [
         "7",
         "39",
         "male"
        ],
        [
         "8",
         "53",
         "female"
        ],
        [
         "9",
         "71",
         "male"
        ]
       ],
       "shape": {
        "columns": 2,
        "rows": 10
       }
      },
      "text/html": [
       "<div>\n",
       "<style scoped>\n",
       "    .dataframe tbody tr th:only-of-type {\n",
       "        vertical-align: middle;\n",
       "    }\n",
       "\n",
       "    .dataframe tbody tr th {\n",
       "        vertical-align: top;\n",
       "    }\n",
       "\n",
       "    .dataframe thead th {\n",
       "        text-align: right;\n",
       "    }\n",
       "</style>\n",
       "<table border=\"1\" class=\"dataframe\">\n",
       "  <thead>\n",
       "    <tr style=\"text-align: right;\">\n",
       "      <th></th>\n",
       "      <th>age</th>\n",
       "      <th>sex</th>\n",
       "    </tr>\n",
       "  </thead>\n",
       "  <tbody>\n",
       "    <tr>\n",
       "      <th>0</th>\n",
       "      <td>29</td>\n",
       "      <td>female</td>\n",
       "    </tr>\n",
       "    <tr>\n",
       "      <th>1</th>\n",
       "      <td>0.9167</td>\n",
       "      <td>male</td>\n",
       "    </tr>\n",
       "    <tr>\n",
       "      <th>2</th>\n",
       "      <td>2</td>\n",
       "      <td>female</td>\n",
       "    </tr>\n",
       "    <tr>\n",
       "      <th>3</th>\n",
       "      <td>30</td>\n",
       "      <td>male</td>\n",
       "    </tr>\n",
       "    <tr>\n",
       "      <th>4</th>\n",
       "      <td>25</td>\n",
       "      <td>female</td>\n",
       "    </tr>\n",
       "    <tr>\n",
       "      <th>5</th>\n",
       "      <td>48</td>\n",
       "      <td>male</td>\n",
       "    </tr>\n",
       "    <tr>\n",
       "      <th>6</th>\n",
       "      <td>63</td>\n",
       "      <td>female</td>\n",
       "    </tr>\n",
       "    <tr>\n",
       "      <th>7</th>\n",
       "      <td>39</td>\n",
       "      <td>male</td>\n",
       "    </tr>\n",
       "    <tr>\n",
       "      <th>8</th>\n",
       "      <td>53</td>\n",
       "      <td>female</td>\n",
       "    </tr>\n",
       "    <tr>\n",
       "      <th>9</th>\n",
       "      <td>71</td>\n",
       "      <td>male</td>\n",
       "    </tr>\n",
       "  </tbody>\n",
       "</table>\n",
       "</div>"
      ],
      "text/plain": [
       "      age     sex\n",
       "0      29  female\n",
       "1  0.9167    male\n",
       "2       2  female\n",
       "3      30    male\n",
       "4      25  female\n",
       "5      48    male\n",
       "6      63  female\n",
       "7      39    male\n",
       "8      53  female\n",
       "9      71    male"
      ]
     },
     "execution_count": 70,
     "metadata": {},
     "output_type": "execute_result"
    }
   ],
   "source": [
    "# verificando mais de uma coluna\n",
    "titanic[[\"age\", \"sex\"]].head(10)"
   ]
  },
  {
   "cell_type": "code",
   "execution_count": 71,
   "id": "5fc15ca6",
   "metadata": {},
   "outputs": [
    {
     "data": {
      "text/plain": [
       "pandas.core.frame.DataFrame"
      ]
     },
     "execution_count": 71,
     "metadata": {},
     "output_type": "execute_result"
    }
   ],
   "source": [
    "# Tipos de dados retornado nas colunas \n",
    "type(titanic[[\"age\",\"sex\"]])"
   ]
  },
  {
   "cell_type": "code",
   "execution_count": 72,
   "id": "37c1096d",
   "metadata": {},
   "outputs": [
    {
     "data": {
      "text/plain": [
       "(1309, 2)"
      ]
     },
     "execution_count": 72,
     "metadata": {},
     "output_type": "execute_result"
    }
   ],
   "source": [
    "titanic[[\"age\", \"sex\"]].shape"
   ]
  },
  {
   "cell_type": "markdown",
   "id": "d2333e9f",
   "metadata": {},
   "source": [
    "# Filtrar linha especifica no Datafram"
   ]
  },
  {
   "cell_type": "code",
   "execution_count": null,
   "id": "6d57c4d1",
   "metadata": {},
   "outputs": [],
   "source": []
  },
  {
   "cell_type": "code",
   "execution_count": null,
   "id": "f94563c8",
   "metadata": {},
   "outputs": [],
   "source": []
  }
 ],
 "metadata": {
  "kernelspec": {
   "display_name": "Anbiente-teste",
   "language": "python",
   "name": "python3"
  },
  "language_info": {
   "codemirror_mode": {
    "name": "ipython",
    "version": 3
   },
   "file_extension": ".py",
   "mimetype": "text/x-python",
   "name": "python",
   "nbconvert_exporter": "python",
   "pygments_lexer": "ipython3",
   "version": "3.11.9"
  }
 },
 "nbformat": 4,
 "nbformat_minor": 5
}
