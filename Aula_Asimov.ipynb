{
 "cells": [
  {
   "cell_type": "markdown",
   "id": "5536729c",
   "metadata": {},
   "source": [
    "#  Aprendendo Algo com Python"
   ]
  },
  {
   "cell_type": "code",
   "execution_count": 26,
   "id": "8de7bc71",
   "metadata": {},
   "outputs": [
    {
     "name": "stdout",
     "output_type": "stream",
     "text": [
      "['maçã', 'banana', 'laranja', 'uva']\n"
     ]
    }
   ],
   "source": [
    "#lista\n",
    "frutas = ['maçã', 'banana', 'laranja', 'uva']\n",
    "print(frutas)"
   ]
  },
  {
   "cell_type": "code",
   "execution_count": 27,
   "id": "ddc98f43",
   "metadata": {},
   "outputs": [
    {
     "name": "stdout",
     "output_type": "stream",
     "text": [
      "['maçã', 'banana', 'laranja', 'uva', 'kiwi']\n"
     ]
    }
   ],
   "source": [
    "frutas.append('kiwi')\n",
    "print(frutas)"
   ]
  },
  {
   "cell_type": "code",
   "execution_count": 28,
   "id": "8847f343",
   "metadata": {},
   "outputs": [
    {
     "name": "stdout",
     "output_type": "stream",
     "text": [
      "('maçã', 'banana', 'laranja', 'uva')\n"
     ]
    }
   ],
   "source": [
    "# Tuplas e dados imutáveis\n",
    "tupla= ('maçã', 'banana', 'laranja', 'uva')\n",
    "print(tupla)"
   ]
  },
  {
   "cell_type": "code",
   "execution_count": 31,
   "id": "b3d21417",
   "metadata": {},
   "outputs": [
    {
     "name": "stdout",
     "output_type": "stream",
     "text": [
      "('maçã', ['banana', 'laranja'], 'uva')\n"
     ]
    }
   ],
   "source": [
    "# tuplas com lista dentro, lista pode ser alterada\n",
    "tupla_com_lista = ('maçã', ['banana', 'laranja'], 'uva')\n",
    "print(tupla_com_lista)"
   ]
  },
  {
   "cell_type": "code",
   "execution_count": 35,
   "id": "67d22734",
   "metadata": {},
   "outputs": [
    {
     "name": "stdout",
     "output_type": "stream",
     "text": [
      "(1, 2, [3, 4, 5, 5, 5])\n"
     ]
    }
   ],
   "source": [
    "#tuplas mutaveis\n",
    "tupla_mutavel[2].append(5)\n",
    "print(tupla_mutavel)"
   ]
  },
  {
   "cell_type": "code",
   "execution_count": 36,
   "id": "5e0686b5",
   "metadata": {},
   "outputs": [],
   "source": [
    "#seuquência \n",
    "texto = \"Aprendendo Python\"\n",
    "listaa=[10,20,30,40,50]"
   ]
  },
  {
   "cell_type": "code",
   "execution_count": 37,
   "id": "74eac070",
   "metadata": {},
   "outputs": [
    {
     "name": "stdout",
     "output_type": "stream",
     "text": [
      "A\n",
      "p\n",
      "r\n",
      "e\n",
      "n\n",
      "d\n",
      "e\n",
      "n\n",
      "d\n",
      "o\n",
      " \n",
      "P\n",
      "y\n",
      "t\n",
      "h\n",
      "o\n",
      "n\n",
      "10\n",
      "20\n",
      "30\n",
      "40\n",
      "50\n"
     ]
    }
   ],
   "source": [
    "for letra in texto:\n",
    "    print(letra)\n",
    "for numero in listaa:\n",
    "    print (numero)\n"
   ]
  },
  {
   "cell_type": "code",
   "execution_count": 38,
   "id": "a7b58250",
   "metadata": {},
   "outputs": [
    {
     "name": "stdout",
     "output_type": "stream",
     "text": [
      "[20, 30, 40]\n",
      "[10, 20, 30]\n",
      "[80, 90, 100]\n",
      "[100, 90, 80, 70, 60, 50, 40, 30, 20, 10]\n",
      "[10, 30, 50, 70, 90]\n"
     ]
    }
   ],
   "source": [
    "# slicing (fatiamento)\n",
    "numeros = [10,20,30,40,50,60,70,80,90,100]\n",
    "\n",
    "print(numeros[1:4])\n",
    "print(numeros[:3])\n",
    "print(numeros[-3:])\n",
    "print(numeros[::-1])\n",
    "print(numeros[::2])  # Pega todos os elementos com passo 2"
   ]
  },
  {
   "cell_type": "code",
   "execution_count": 39,
   "id": "bf61a925",
   "metadata": {},
   "outputs": [
    {
     "name": "stdout",
     "output_type": "stream",
     "text": [
      "1\n",
      "2\n",
      "3\n",
      "4\n",
      "5\n",
      "0\n",
      "2\n",
      "4\n",
      "6\n",
      "8\n"
     ]
    }
   ],
   "source": [
    "# Funçao range\n",
    "for i in range(1, 6):\n",
    "    print(i)\n",
    "# pulando de 2 em 2\n",
    "for i in range(0,10, 2):\n",
    "    print(i)"
   ]
  },
  {
   "cell_type": "code",
   "execution_count": 41,
   "id": "5cd0b774",
   "metadata": {},
   "outputs": [
    {
     "name": "stdout",
     "output_type": "stream",
     "text": [
      "Eugosto de leão\n",
      "Eugosto de tigre\n",
      "Eugosto de urso\n",
      "Eugosto de elefante\n"
     ]
    }
   ],
   "source": [
    "# laço for \n",
    "animais = ['leão', 'tigre', 'urso', 'elefante']\n",
    "for animal in animais:\n",
    "    print(f\"Eugosto de {animal}\")"
   ]
  },
  {
   "cell_type": "code",
   "execution_count": 42,
   "id": "8a0e3abd",
   "metadata": {},
   "outputs": [
    {
     "name": "stdout",
     "output_type": "stream",
     "text": [
      "1\n",
      "2\n",
      "3\n",
      "4\n"
     ]
    }
   ],
   "source": [
    "# break e continue\n",
    "for numero in range(1, 10):\n",
    "    if numero == 5:\n",
    "        break\n",
    "    print(numero)"
   ]
  },
  {
   "cell_type": "code",
   "execution_count": 43,
   "id": "eb13c234",
   "metadata": {},
   "outputs": [
    {
     "name": "stdout",
     "output_type": "stream",
     "text": [
      "1\n",
      "2\n",
      "4\n",
      "5\n"
     ]
    }
   ],
   "source": [
    "for numero in range(1, 6):\n",
    "    if numero == 3:\n",
    "        continue\n",
    "    print (numero)"
   ]
  },
  {
   "cell_type": "code",
   "execution_count": 44,
   "id": "bde35967",
   "metadata": {},
   "outputs": [
    {
     "name": "stdout",
     "output_type": "stream",
     "text": [
      "Contador: 1\n",
      "Contador: 2\n",
      "Contador: 3\n",
      "Contador: 4\n",
      "Contador: 5\n"
     ]
    }
   ],
   "source": [
    "#laço while\n",
    "contador = 1\n",
    "while contador <= 5:\n",
    "    print(f\"Contador: {contador}\")\n",
    "    contador += 1   "
   ]
  },
  {
   "cell_type": "code",
   "execution_count": null,
   "id": "94f4cc7e",
   "metadata": {},
   "outputs": [],
   "source": []
  }
 ],
 "metadata": {
  "kernelspec": {
   "display_name": "Anbiente-teste",
   "language": "python",
   "name": "python3"
  },
  "language_info": {
   "codemirror_mode": {
    "name": "ipython",
    "version": 3
   },
   "file_extension": ".py",
   "mimetype": "text/x-python",
   "name": "python",
   "nbconvert_exporter": "python",
   "pygments_lexer": "ipython3",
   "version": "3.11.9"
  }
 },
 "nbformat": 4,
 "nbformat_minor": 5
}
