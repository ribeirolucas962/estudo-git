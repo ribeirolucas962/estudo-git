{
 "cells": [
  {
   "cell_type": "markdown",
   "id": "5536729c",
   "metadata": {},
   "source": [
    "#  Aprendendo Algo com Python"
   ]
  },
  {
   "cell_type": "code",
   "execution_count": 26,
   "id": "8de7bc71",
   "metadata": {},
   "outputs": [
    {
     "name": "stdout",
     "output_type": "stream",
     "text": [
      "['maçã', 'banana', 'laranja', 'uva']\n"
     ]
    }
   ],
   "source": [
    "#lista\n",
    "frutas = ['maçã', 'banana', 'laranja', 'uva']\n",
    "print(frutas)"
   ]
  },
  {
   "cell_type": "code",
   "execution_count": 27,
   "id": "ddc98f43",
   "metadata": {},
   "outputs": [
    {
     "name": "stdout",
     "output_type": "stream",
     "text": [
      "['maçã', 'banana', 'laranja', 'uva', 'kiwi']\n"
     ]
    }
   ],
   "source": [
    "frutas.append('kiwi')\n",
    "print(frutas)"
   ]
  },
  {
   "cell_type": "code",
   "execution_count": 28,
   "id": "8847f343",
   "metadata": {},
   "outputs": [
    {
     "name": "stdout",
     "output_type": "stream",
     "text": [
      "('maçã', 'banana', 'laranja', 'uva')\n"
     ]
    }
   ],
   "source": [
    "# Tuplas e dados imutáveis\n",
    "tupla= ('maçã', 'banana', 'laranja', 'uva')\n",
    "print(tupla)"
   ]
  },
  {
   "cell_type": "code",
   "execution_count": 31,
   "id": "b3d21417",
   "metadata": {},
   "outputs": [
    {
     "name": "stdout",
     "output_type": "stream",
     "text": [
      "('maçã', ['banana', 'laranja'], 'uva')\n"
     ]
    }
   ],
   "source": [
    "# tuplas com lista dentro, lista pode ser alterada\n",
    "tupla_com_lista = ('maçã', ['banana', 'laranja'], 'uva')\n",
    "print(tupla_com_lista)"
   ]
  },
  {
   "cell_type": "code",
   "execution_count": 35,
   "id": "67d22734",
   "metadata": {},
   "outputs": [
    {
     "name": "stdout",
     "output_type": "stream",
     "text": [
      "(1, 2, [3, 4, 5, 5, 5])\n"
     ]
    }
   ],
   "source": [
    "#tuplas mutaveis\n",
    "tupla_mutavel[2].append(5)\n",
    "print(tupla_mutavel)"
   ]
  },
  {
   "cell_type": "code",
   "execution_count": 36,
   "id": "5e0686b5",
   "metadata": {},
   "outputs": [],
   "source": [
    "#seuquência \n",
    "texto = \"Aprendendo Python\"\n",
    "listaa=[10,20,30,40,50]"
   ]
  },
  {
   "cell_type": "code",
   "execution_count": 37,
   "id": "74eac070",
   "metadata": {},
   "outputs": [
    {
     "name": "stdout",
     "output_type": "stream",
     "text": [
      "A\n",
      "p\n",
      "r\n",
      "e\n",
      "n\n",
      "d\n",
      "e\n",
      "n\n",
      "d\n",
      "o\n",
      " \n",
      "P\n",
      "y\n",
      "t\n",
      "h\n",
      "o\n",
      "n\n",
      "10\n",
      "20\n",
      "30\n",
      "40\n",
      "50\n"
     ]
    }
   ],
   "source": [
    "for letra in texto:\n",
    "    print(letra)\n",
    "for numero in listaa:\n",
    "    print (numero)\n"
   ]
  },
  {
   "cell_type": "code",
   "execution_count": 38,
   "id": "a7b58250",
   "metadata": {},
   "outputs": [
    {
     "name": "stdout",
     "output_type": "stream",
     "text": [
      "[20, 30, 40]\n",
      "[10, 20, 30]\n",
      "[80, 90, 100]\n",
      "[100, 90, 80, 70, 60, 50, 40, 30, 20, 10]\n",
      "[10, 30, 50, 70, 90]\n"
     ]
    }
   ],
   "source": [
    "# slicing (fatiamento)\n",
    "numeros = [10,20,30,40,50,60,70,80,90,100]\n",
    "\n",
    "print(numeros[1:4])\n",
    "print(numeros[:3])\n",
    "print(numeros[-3:])\n",
    "print(numeros[::-1])\n",
    "print(numeros[::2])  # Pega todos os elementos com passo 2"
   ]
  },
  {
   "cell_type": "code",
   "execution_count": 39,
   "id": "bf61a925",
   "metadata": {},
   "outputs": [
    {
     "name": "stdout",
     "output_type": "stream",
     "text": [
      "1\n",
      "2\n",
      "3\n",
      "4\n",
      "5\n",
      "0\n",
      "2\n",
      "4\n",
      "6\n",
      "8\n"
     ]
    }
   ],
   "source": [
    "# Funçao range\n",
    "for i in range(1, 6):\n",
    "    print(i)\n",
    "# pulando de 2 em 2\n",
    "for i in range(0,10, 2):\n",
    "    print(i)"
   ]
  },
  {
   "cell_type": "code",
   "execution_count": 41,
   "id": "5cd0b774",
   "metadata": {},
   "outputs": [
    {
     "name": "stdout",
     "output_type": "stream",
     "text": [
      "Eugosto de leão\n",
      "Eugosto de tigre\n",
      "Eugosto de urso\n",
      "Eugosto de elefante\n"
     ]
    }
   ],
   "source": [
    "# laço for \n",
    "animais = ['leão', 'tigre', 'urso', 'elefante']\n",
    "for animal in animais:\n",
    "    print(f\"Eugosto de {animal}\")"
   ]
  },
  {
   "cell_type": "code",
   "execution_count": 42,
   "id": "8a0e3abd",
   "metadata": {},
   "outputs": [
    {
     "name": "stdout",
     "output_type": "stream",
     "text": [
      "1\n",
      "2\n",
      "3\n",
      "4\n"
     ]
    }
   ],
   "source": [
    "# break e continue\n",
    "for numero in range(1, 10):\n",
    "    if numero == 5:\n",
    "        break\n",
    "    print(numero)"
   ]
  },
  {
   "cell_type": "code",
   "execution_count": 43,
   "id": "eb13c234",
   "metadata": {},
   "outputs": [
    {
     "name": "stdout",
     "output_type": "stream",
     "text": [
      "1\n",
      "2\n",
      "4\n",
      "5\n"
     ]
    }
   ],
   "source": [
    "for numero in range(1, 6):\n",
    "    if numero == 3:\n",
    "        continue\n",
    "    print (numero)"
   ]
  },
  {
   "cell_type": "code",
   "execution_count": 44,
   "id": "bde35967",
   "metadata": {},
   "outputs": [
    {
     "name": "stdout",
     "output_type": "stream",
     "text": [
      "Contador: 1\n",
      "Contador: 2\n",
      "Contador: 3\n",
      "Contador: 4\n",
      "Contador: 5\n"
     ]
    }
   ],
   "source": [
    "#laço while\n",
    "contador = 1\n",
    "while contador <= 5:\n",
    "    print(f\"Contador: {contador}\")\n",
    "    contador += 1   "
   ]
  },
  {
   "cell_type": "code",
   "execution_count": 1,
   "id": "94f4cc7e",
   "metadata": {},
   "outputs": [
    {
     "name": "stdout",
     "output_type": "stream",
     "text": [
      "Soma: 80, Média: 16.0\n"
     ]
    }
   ],
   "source": [
    "# soma e média \n",
    "numeros = [10,20,5,30,15]\n",
    "soma = 0\n",
    "quantidade = 0\n",
    "for numero in numeros:\n",
    "    soma += numero\n",
    "    quantidade += 1\n",
    "media = soma / quantidade \n",
    "print(f\"Soma: {soma}, Média: {media}\")"
   ]
  },
  {
   "cell_type": "code",
   "execution_count": 3,
   "id": "d99cdbb3",
   "metadata": {},
   "outputs": [
    {
     "name": "stdout",
     "output_type": "stream",
     "text": [
      "Palavras com 5 ou mais caracteres:\n",
      "dados\n",
      "Python\n",
      "programação\n",
      "inteligência\n",
      "artificial\n"
     ]
    }
   ],
   "source": [
    "# filtrar palavras\n",
    "palavras= [\"dados\", \"Python\", \"r\",\"programação\", \"inteligência\", \"artificial\"]\n",
    "\n",
    "print(\"Palavras com 5 ou mais caracteres:\")\n",
    "\n",
    "for palavra in palavras:\n",
    "    if len(palavra) >= 5:\n",
    "        print(palavra)"
   ]
  },
  {
   "cell_type": "code",
   "execution_count": 6,
   "id": "0e8a380a",
   "metadata": {},
   "outputs": [
    {
     "name": "stdout",
     "output_type": "stream",
     "text": [
      "O maior número é: 42\n"
     ]
    }
   ],
   "source": [
    "# encontrar o mior número\n",
    "numeros = [8, 25, 3, 42,17,9, 12]\n",
    "\n",
    "maior = numeros[0]\n",
    "\n",
    "for numero in numeros:\n",
    "    if numero > maior:\n",
    "        maior = numero\n",
    "print(f\"O maior número é: {maior}\")\n"
   ]
  },
  {
   "cell_type": "code",
   "execution_count": 7,
   "id": "e294cee0",
   "metadata": {},
   "outputs": [
    {
     "name": "stdout",
     "output_type": "stream",
     "text": [
      "Valores duplicados nas duas listas:)\n",
      "4\n",
      "5\n",
      "6\n",
      "7\n",
      "8\n"
     ]
    }
   ],
   "source": [
    "# encontar numero duplicado\n",
    "lista1 = [1, 2, 3, 4, 5, 3, 6, 7, 8, 2]\n",
    "lista2= [4,5,6,7,8,9,10]\n",
    "\n",
    "duplicados = []\n",
    "for item in lista1:\n",
    "    if item in lista2 and item not in duplicados:\n",
    "        duplicados.append(item)\n",
    "\n",
    "print(f\"Valores duplicados nas duas listas:)\")\n",
    "for valor in duplicados:\n",
    "    print(valor)    "
   ]
  },
  {
   "cell_type": "code",
   "execution_count": 8,
   "id": "b748fd58",
   "metadata": {},
   "outputs": [
    {
     "name": "stdout",
     "output_type": "stream",
     "text": [
      "Não existe nenhum elemento em comum nas duas listas.\n"
     ]
    }
   ],
   "source": [
    "# verificando elemento nas duas listas\n",
    "lista1 = [1, 2, 3, 4, 5, 3, 6, 7, 8, 2]\n",
    "lista2= [4,5,6,7,8,9,10]\n",
    "\n",
    "existe_comum = False\n",
    "\n",
    "for intem in lista1:\n",
    "    if item in lista2:\n",
    "        existe_comum = True\n",
    "        break\n",
    "if existe_comum:\n",
    "    print(\"Existe pelo menos um elemento em comum nas duas listas.\")\n",
    "else:\n",
    "    print(\"Não existe nenhum elemento em comum nas duas listas.\")"
   ]
  },
  {
   "cell_type": "code",
   "execution_count": 9,
   "id": "c80a605c",
   "metadata": {},
   "outputs": [
    {
     "name": "stdout",
     "output_type": "stream",
     "text": [
      "Existe pelo menos um elemento em comum nas duas listas.\n"
     ]
    }
   ],
   "source": [
    "# versão otmizada\n",
    "lista1 = [1, 2, 3, 4, 5, 3, 6, 7, 8, 2]\n",
    "lista2 = [4, 5, 6, 7, 8, 9, 10]\n",
    "if set(lista1) & set(lista2):\n",
    "    print(\"Existe pelo menos um elemento em comum nas duas listas.\")\n",
    "else:\n",
    "    print(\"Não existe nenhum elemento em comum nas duas listas.\")"
   ]
  },
  {
   "cell_type": "code",
   "execution_count": 1,
   "id": "c372b0a1",
   "metadata": {},
   "outputs": [
    {
     "name": "stdout",
     "output_type": "stream",
     "text": [
      "{'Brasil': 'Brasília', 'Estados Unidos': 'Washington, D.C.', 'França': 'Paris', 'Alemanha': 'Berlim'}\n"
     ]
    }
   ],
   "source": [
    "# dicionario \n",
    "capitais= {\n",
    "    'Brasil': 'Brasília',\n",
    "    'Estados Unidos': 'Washington, D.C.',\n",
    "    'França': 'Paris',\n",
    "    'Alemanha': 'Berlim',\n",
    "}\n",
    "print(capitais)"
   ]
  },
  {
   "cell_type": "code",
   "execution_count": 2,
   "id": "f6c3890a",
   "metadata": {},
   "outputs": [
    {
     "name": "stdout",
     "output_type": "stream",
     "text": [
      "A capital de Brasil é Brasília\n",
      "A capital de Estados Unidos é Washington, D.C.\n",
      "A capital de França é Paris\n",
      "A capital de Alemanha é Berlim\n"
     ]
    }
   ],
   "source": [
    "for pais in capitais:\n",
    "    capital = capitais[pais]\n",
    "    print(f\"A capital de {pais} é {capital}\")"
   ]
  },
  {
   "cell_type": "code",
   "execution_count": 4,
   "id": "a244a6a3",
   "metadata": {},
   "outputs": [
    {
     "name": "stdout",
     "output_type": "stream",
     "text": [
      "{10: 'dez', 'chave': 'valor', 3.15: 'tres ponto quinze'}\n"
     ]
    }
   ],
   "source": [
    "d= dict()\n",
    "d[10] = 'dez'\n",
    "d['chave'] = 'valor'\n",
    "d[3.15] = 'tres ponto quinze'\n",
    "print(d)"
   ]
  },
  {
   "cell_type": "code",
   "execution_count": null,
   "id": "74c24fc9",
   "metadata": {},
   "outputs": [],
   "source": []
  }
 ],
 "metadata": {
  "kernelspec": {
   "display_name": "Anbiente-teste",
   "language": "python",
   "name": "python3"
  },
  "language_info": {
   "codemirror_mode": {
    "name": "ipython",
    "version": 3
   },
   "file_extension": ".py",
   "mimetype": "text/x-python",
   "name": "python",
   "nbconvert_exporter": "python",
   "pygments_lexer": "ipython3",
   "version": "3.11.9"
  }
 },
 "nbformat": 4,
 "nbformat_minor": 5
}
