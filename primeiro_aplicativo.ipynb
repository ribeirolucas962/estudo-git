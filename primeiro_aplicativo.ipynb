{
 "cells": [
  {
   "cell_type": "code",
   "execution_count": 7,
   "id": "aaf0a599",
   "metadata": {},
   "outputs": [],
   "source": [
    "import sys\n",
    "import streamlit as st\n",
    "import pandas as pd\n",
    "import csv\n",
    "import matplotlib.pyplot as plt "
   ]
  },
  {
   "cell_type": "code",
   "execution_count": 8,
   "id": "1be07de7",
   "metadata": {},
   "outputs": [
    {
     "data": {
      "application/vnd.microsoft.datawrangler.viewer.v0+json": {
       "columns": [
        {
         "name": "index",
         "rawType": "int64",
         "type": "integer"
        },
        {
         "name": "Sno",
         "rawType": "int64",
         "type": "integer"
        },
        {
         "name": "book name",
         "rawType": "object",
         "type": "string"
        },
        {
         "name": "review title",
         "rawType": "object",
         "type": "string"
        },
        {
         "name": "reviewer",
         "rawType": "object",
         "type": "string"
        },
        {
         "name": "reviewer rating",
         "rawType": "int64",
         "type": "integer"
        },
        {
         "name": "review description",
         "rawType": "object",
         "type": "string"
        },
        {
         "name": "is_verified",
         "rawType": "bool",
         "type": "boolean"
        },
        {
         "name": "date",
         "rawType": "object",
         "type": "string"
        },
        {
         "name": "timestamp",
         "rawType": "object",
         "type": "string"
        },
        {
         "name": "ASIN",
         "rawType": "object",
         "type": "string"
        }
       ],
       "ref": "fb030cfd-14d5-4de6-902f-ae39b0c1ba48",
       "rows": [
        [
         "0",
         "0",
         "The Woman in Me",
         "Unbelievably impressive. Her torn life on paper.",
         "Murderess Marbie",
         "4",
         "I'm only a third way in. Shipped lightening fast.The print quality of the book is very good. I like the rose and the purple foil, they captured her taste here and will look bomb on my bookshelf.As for the writing it's good. Amazing, no. But they painted an incredible picture of her life. Much better writing than I thought to be honest. I was expecting more scattered blurbs throughout the book but the way it's presented does honor her experience, and sounds like her up to an extent. Now, I do think the ghost writer went verbose in some areas that were unnecessary which derailed her voice in my head but I imagine getting the whole picture would be difficult.I was hoping for a thicker book as she's been through a lot. So I am a bit disappointed at that but nevertheless it's an interesting read thus far.As for Britney's life story. I have to say they were smart in starting with her lineage and she didn't hold back keeping her family accountable from the gate. Good on her for having conviction.I suddenly found myself understanding little quirks, connecting the dots, certain things would suddenly click in my head. For example her British accent and her relationship with a lynchpin matriarch elder.Very cool build up. Laying the ground work for her future decisions by presenting us with complex childhood family dynamics really has me understanding her choices and quirks much better than I ever realized I needed to be deep in thought of.Sometimes we judge from a place of pity or outsider perspective instead of compassion. Now I see the soft gentle feminine side of her mindset that we knew when she was younger start to peek through the pages. It's that sweet part of her soul that she doesn't show much nowadays, for good reason of course as she's been deeply hurt and damaged by other's greed, but that delicate nature is part of why most of us were charmed by her. I hope she finds her way back one day.She's been through a lot and I found myself relating to things she'd been through, and feeling deeply saddened by her sense of insecurity in childhood. Her insights correlate along with many of my own life experiences and traumas. I was taken aback by her growth in reflection, as one would believe anger would be the easy way to portray her story, not the case here, it's her appreciation for her past that has earned my deep respect beyond what I thought I had possessed prior to reading.Her story with her brother was touching and softened my distain for his participation in the matter of handling her affairs. Although I hope he is held accountable someday. It shows how loving and innocent she was and how grave a loss she has suffered, for it is those who are selfless that don't speak up only to suffer the most.Such a contrast to the presentation of her character in the media. Thus far this book is an excellent read!------ To be Continued* I'm looking forward to reading through this book in it's entirety and will update when I'm done. One star for the writing not sounding like her in some places. I will change accordingly.",
         "True",
         "26-10-2023",
         "Reviewed in the United States October 26, 2023",
         "1668009048"
        ],
        [
         "1",
         "1",
         "The Woman in Me",
         "What a heartbreaking story",
         "L J",
         "5",
         "\"There have been so many times when I was scared to speak up because I was afraid somebody would think I was crazy. But I've learned that lesson now, the hard way. You have to speak the thing that you're feeling, even if it scares you. You have to tell your story. You have to raise your voice.\"What a heartbreaking story. Whatever you feel about Britney this memoir makes you understand and have empathy for all the things that have made headlines in her life. It took me a little bit to get into it because though people believed this was going to be ghostwritten, I believe the editors tried to keep it raw and in her voice so it does jump around a little bit and the flow can be off, but it feels authentically Britney. I got to a point where I couldn't put it down...and then there were parts I had to put it down because it was very difficult to read what she went through.I don't think I will look at any of her past interviews or performances the same and I wish her the best.In speaking of when her family forced her into a mental health facility after refusing to do a second tour in Vegas and wanting to change up dance moves in a performance:\"God must have been with me through that period of time. Three months into my confinement, I started to believe that my little heart, whatever made me Britney, was no longer inside my body anymore. Something bigger must have been carrying me through, because it was too much for me to bear alone. I look at the fact that I survived and I think, \"that wasn't me; that was God.\"",
         "True",
         "06-11-2023",
         "Reviewed in the United States November 6, 2023",
         "1668009048"
        ],
        [
         "2",
         "2",
         "The Woman in Me",
         "Britney you are so invincible! You are an inspiration and helped motivate me to be strong like you.",
         "Jamie",
         "5",
         "The media could not be loaded. I personally have been in the same exact situations as some of these in Britney’s memoir. My son’s father illegally withheld my son from me for 72 days when I have primary physical custody and sole legal custody. The police won’t take a child from a parents care regardless of court order! The court system is a joke and didn’t help at all. I am an unemployed single mother, so I didn’t have a lawyer and no one in my family would help me because my parents don’t have that kind of money and my nana and pop passed away. (All I have) It wasn’t until I filed an emergency hearing after all my other petitions were denied, to finally be seen at court to get my son back. The father even then refused so eventually after educating myself online for 65 days and countless hours of research, I made a petition asking the judge for police to use force as necessary to ensure I get my son back this time. A little more than a week later the judge granted it. The pain, emotional turmoil, absolute defeat, despair, depression, anxiety, grief, guilt, helplessness, and being put down by everyone you thought was family and loved you. I didn’t do anything wrong either. I had my son 24/7 with NO help from anyone, his whole 5 years of life. Working side jobs taking care of an old woman and cleaning dirty toilets to provide what he needed. Those sleepless nights crying wondering why this happened, what your child is thinking or being told, if he thinks he was abandoned when you’re showing up with police escorts and every day fighting to get your child back, but your son doesn’t know that! In my situation, that whole petty situation was over my jealous sister trying to get me kicked out to take my room (master bedroom, my sons bedroom, and a master bathroom) I spent $7,000 renovating (old neglected house) and the father not wanting to pay child support, so they ganged up on us to be vindictive at the stake of my sons emotional and mental well-being. ($170 every two weeks only visits dad 6-8 days a month depending on how many weeks are in the month) People are CRUEL! You are only as good as you are giving. Once your hand closes, you will have NO ONE! My son is still struggling 5 months later with the emotional turmoil from the trauma they caused him. He’s having outbursts in school because of the trauma! I still am also traumatized every time his visitation at his father comes. I worry I’ll never see my child again, and yes sometimes it makes me want to hide him too! For anyone to judge you and your choices when you were literally helpless walking through the gates of hell and trembling with every step, taking every single low blow, and still not giving up. Doing it all alone, no help! Evil experiences almost always revolve around MONEY and EVIL PEOPLE! You are INVINCIBLE! No one will ever understand until they walk in those shoes. Don’t you ever underestimate your resilience and strength. You are strong, you are amazing, you are beautiful, you can do it! What those people did to you, that were supposed to love you but instead used you to profit off your hard work, prosperity, and dedication, I hope karma comes for them HARD. I can not imagine the trauma you have been through, especially living under a microscope with hundreds of dangerous paparazzi men hungry for money and seeing your grief and pain, profiting off your downfall when you were on top of the world, chasing you and your children around with such disrespect and disregard to how that would affect your children and your emotional and mental health, is disgusting. You were put in fight or flight mode, given ptsd, betrayed, and locked up like a prisoner. While everyone took all of your money you worked hard for, building your empire for the family you always dreamed of creating. Please stay strong, and keep fighting for your happiness. You deserve to live the life of your wildest dreams, you deserve to be the happy woman that got to enjoy doing what she loved! You deserve to do what you want when you want! You are worth it! You know who you are, what you’ve done, and what YOU ARE CAPABLE OF! Now pick up that crown 👑 QUEEN OF POP, scream you WON’T GIVE UP, and WIN!🤟🏻❤️🥳😘",
         "True",
         "01-11-2023",
         "Reviewed in the United States November 1, 2023",
         "1668009048"
        ],
        [
         "3",
         "3",
         "The Woman in Me",
         "Fast Read, Sad Story",
         "KMG",
         "5",
         "I have been a fan of Britney's music since the '00s. She is just a couple years older than me. I didn't love how she dressed or how sexy she was on the TV screen, because I felt like I was expected to look and act just like her - at the time. She definitely influenced fashion and hair and young women's actions. However, that is not entirely her fault.The paparazzi was INSANE around her. There were so many tabloids and photos taken of her throughout the years that by the time I reached age 17 or 18, I refused to purchase or even PICK UP a magazine while standing at the store checkout- in solidarity with Britney. What they did to her was disgusting, invasive and abusive. It makes my skin crawl, just thinking about it.But, her music was fire. The mixture of dub step rhythms with her music was so fun and energetic. I still listen to it from time to time and dance.The book was written pretty simply. You can see that she has done some therapy and has gained some insight into her life, her history. She is trying to understand why she did the things she did and why she trusted those she trusted. The kinds of betrayals she has endured in the past two decades will need some serious CBT to re-write those neuropathways into a healthier train of thought.Our society is still learning what entails \"abuse\" and what does not. I've definitely felt my share of emotional and psychological abuse. It hangs inside of your thoughts long after you've stopped being around those people. You must be constantly diligent to stop those negative thoughts toward yourself and to re-write what your mind says to you. You hear what your mind tells you WAY more often than you hear negative words from others. You are with YOU 100% of the time. There's nowhere to run. So, you need to become your own best friend.I hope this book was written by her and that she is receiving the payments from purchases. I hope that she wrote it and it was done with her consent. I find the timing of the release of this book crucial- but, maybe if I was released from \"prison\", I would run to publish my side of the story, too. I would have probably been writing in journals the entire time.I hope she heals. She seems to be on her way. I hope she simplifies her life and stops letting outsiders inside of her mind. The book was easy to read, doesn't get TOO DEEP into her psyche. It is very surface level. She is TELLING her story. it's not super deep or introspective or thought provoking in any particular way. I am definitely confused as to why the conservatorship was done in the first place, and then held for 13 years- but I was already informed about that before the book. I read the book in 2 and 1/2 hours.Many times, I wished that she would tell more details of one story or other. But, so much of her life has been an invasion of privacy, that I understand maybe she doesn't want to allow more than just the surface level story out there. It's her choice.",
         "True",
         "25-10-2023",
         "Reviewed in the United States October 25, 2023",
         "1668009048"
        ],
        [
         "4",
         "4",
         "The Woman in Me",
         "Buy it, it’s worth the read!",
         "Stephanie Brown",
         "5",
         "Whether or not you’re a fan, it’s a great read. Britney takes you in her world and shares her perspective of how hateful the tabloid, tv hosts, and paparazzi was, and still is, to her. The vile, hateful, ignorant comments towards her that people got away with in the 2000’s is incomprehensible really. All the while she stood tall taking every blow and silently suffered through it. She was always perceived as dumb but I never thought that, she carried herself with dignity and gave everyone respect even if they didn’t reciprocate it. From what I’ve gathered by reading her words, she didn’t have a enough people in her corner looking out for her. The struggles she shared about motherhood I felt so connected to, it’s difficult enough experiencing it in the comfort of your own home with people who love you and care about you, but to experience that all while the world was watching and scrutinizing everything you do seems agonizing. Society still sets impossible standards for women and mothers. But men can do something as simple as take their kids to school and be sung as heroes. The judgment you feel amongst your own community of fellow parents is hard and can really make you second guess yourself as a parent, but on the scale of a celebrity, it seems impossible to do any good or anything right. I can’t ever imagine putting my kid through any of the horrible experiences her own family put her through. But not everyone is fit to be a parent, and from what I’ve read her parents fit that mold very well. Overall it is an exceptionally well written book and full of quirky humor that sheds a warm light on the Britney I grew up watching, loving, and admiring. Her strength and grit is unmatched. I hope this gives her solace and she thrives from this point on to find herself.",
         "True",
         "01-11-2023",
         "Reviewed in the United States November 1, 2023",
         "1668009048"
        ]
       ],
       "shape": {
        "columns": 10,
        "rows": 5
       }
      },
      "text/html": [
       "<div>\n",
       "<style scoped>\n",
       "    .dataframe tbody tr th:only-of-type {\n",
       "        vertical-align: middle;\n",
       "    }\n",
       "\n",
       "    .dataframe tbody tr th {\n",
       "        vertical-align: top;\n",
       "    }\n",
       "\n",
       "    .dataframe thead th {\n",
       "        text-align: right;\n",
       "    }\n",
       "</style>\n",
       "<table border=\"1\" class=\"dataframe\">\n",
       "  <thead>\n",
       "    <tr style=\"text-align: right;\">\n",
       "      <th></th>\n",
       "      <th>Sno</th>\n",
       "      <th>book name</th>\n",
       "      <th>review title</th>\n",
       "      <th>reviewer</th>\n",
       "      <th>reviewer rating</th>\n",
       "      <th>review description</th>\n",
       "      <th>is_verified</th>\n",
       "      <th>date</th>\n",
       "      <th>timestamp</th>\n",
       "      <th>ASIN</th>\n",
       "    </tr>\n",
       "  </thead>\n",
       "  <tbody>\n",
       "    <tr>\n",
       "      <th>0</th>\n",
       "      <td>0</td>\n",
       "      <td>The Woman in Me</td>\n",
       "      <td>Unbelievably impressive. Her torn life on paper.</td>\n",
       "      <td>Murderess Marbie</td>\n",
       "      <td>4</td>\n",
       "      <td>I'm only a third way in. Shipped lightening fa...</td>\n",
       "      <td>True</td>\n",
       "      <td>26-10-2023</td>\n",
       "      <td>Reviewed in the United States October 26, 2023</td>\n",
       "      <td>1668009048</td>\n",
       "    </tr>\n",
       "    <tr>\n",
       "      <th>1</th>\n",
       "      <td>1</td>\n",
       "      <td>The Woman in Me</td>\n",
       "      <td>What a heartbreaking story</td>\n",
       "      <td>L J</td>\n",
       "      <td>5</td>\n",
       "      <td>\"There have been so many times when I was scar...</td>\n",
       "      <td>True</td>\n",
       "      <td>06-11-2023</td>\n",
       "      <td>Reviewed in the United States November 6, 2023</td>\n",
       "      <td>1668009048</td>\n",
       "    </tr>\n",
       "    <tr>\n",
       "      <th>2</th>\n",
       "      <td>2</td>\n",
       "      <td>The Woman in Me</td>\n",
       "      <td>Britney you are so invincible! You are an insp...</td>\n",
       "      <td>Jamie</td>\n",
       "      <td>5</td>\n",
       "      <td>The media could not be loaded. I personally ha...</td>\n",
       "      <td>True</td>\n",
       "      <td>01-11-2023</td>\n",
       "      <td>Reviewed in the United States November 1, 2023</td>\n",
       "      <td>1668009048</td>\n",
       "    </tr>\n",
       "    <tr>\n",
       "      <th>3</th>\n",
       "      <td>3</td>\n",
       "      <td>The Woman in Me</td>\n",
       "      <td>Fast Read, Sad Story</td>\n",
       "      <td>KMG</td>\n",
       "      <td>5</td>\n",
       "      <td>I have been a fan of Britney's music since the...</td>\n",
       "      <td>True</td>\n",
       "      <td>25-10-2023</td>\n",
       "      <td>Reviewed in the United States October 25, 2023</td>\n",
       "      <td>1668009048</td>\n",
       "    </tr>\n",
       "    <tr>\n",
       "      <th>4</th>\n",
       "      <td>4</td>\n",
       "      <td>The Woman in Me</td>\n",
       "      <td>Buy it, it’s worth the read!</td>\n",
       "      <td>Stephanie Brown</td>\n",
       "      <td>5</td>\n",
       "      <td>Whether or not you’re a fan, it’s a great read...</td>\n",
       "      <td>True</td>\n",
       "      <td>01-11-2023</td>\n",
       "      <td>Reviewed in the United States November 1, 2023</td>\n",
       "      <td>1668009048</td>\n",
       "    </tr>\n",
       "  </tbody>\n",
       "</table>\n",
       "</div>"
      ],
      "text/plain": [
       "   Sno        book name                                       review title  \\\n",
       "0    0  The Woman in Me   Unbelievably impressive. Her torn life on paper.   \n",
       "1    1  The Woman in Me                         What a heartbreaking story   \n",
       "2    2  The Woman in Me  Britney you are so invincible! You are an insp...   \n",
       "3    3  The Woman in Me                               Fast Read, Sad Story   \n",
       "4    4  The Woman in Me                       Buy it, it’s worth the read!   \n",
       "\n",
       "           reviewer  reviewer rating  \\\n",
       "0  Murderess Marbie                4   \n",
       "1               L J                5   \n",
       "2             Jamie                5   \n",
       "3               KMG                5   \n",
       "4   Stephanie Brown                5   \n",
       "\n",
       "                                  review description  is_verified        date  \\\n",
       "0  I'm only a third way in. Shipped lightening fa...         True  26-10-2023   \n",
       "1  \"There have been so many times when I was scar...         True  06-11-2023   \n",
       "2  The media could not be loaded. I personally ha...         True  01-11-2023   \n",
       "3  I have been a fan of Britney's music since the...         True  25-10-2023   \n",
       "4  Whether or not you’re a fan, it’s a great read...         True  01-11-2023   \n",
       "\n",
       "                                        timestamp        ASIN  \n",
       "0  Reviewed in the United States October 26, 2023  1668009048  \n",
       "1  Reviewed in the United States November 6, 2023  1668009048  \n",
       "2  Reviewed in the United States November 1, 2023  1668009048  \n",
       "3  Reviewed in the United States October 25, 2023  1668009048  \n",
       "4  Reviewed in the United States November 1, 2023  1668009048  "
      ]
     },
     "execution_count": 8,
     "metadata": {},
     "output_type": "execute_result"
    }
   ],
   "source": [
    "df_reviews = pd.read_csv('datasets/customer reviews.csv')\n",
    "df_top100_books = pd.read_csv('datasets/Top-100 Trending Books.csv')\n",
    "df_reviews.head()"
   ]
  },
  {
   "cell_type": "code",
   "execution_count": 11,
   "id": "06c49fc7",
   "metadata": {},
   "outputs": [
    {
     "ename": "NameError",
     "evalue": "name 'streamlit' is not defined",
     "output_type": "error",
     "traceback": [
      "\u001b[1;31m---------------------------------------------------------------------------\u001b[0m",
      "\u001b[1;31mNameError\u001b[0m                                 Traceback (most recent call last)",
      "Cell \u001b[1;32mIn[11], line 1\u001b[0m\n\u001b[1;32m----> 1\u001b[0m streamlit\u001b[38;5;241m.\u001b[39mdf_reviews\n",
      "\u001b[1;31mNameError\u001b[0m: name 'streamlit' is not defined"
     ]
    }
   ],
   "source": [
    "streamlit.df_reviews\n"
   ]
  },
  {
   "cell_type": "code",
   "execution_count": null,
   "id": "24e23a5e",
   "metadata": {},
   "outputs": [],
   "source": []
  }
 ],
 "metadata": {
  "kernelspec": {
   "display_name": "Anbiente-teste",
   "language": "python",
   "name": "python3"
  },
  "language_info": {
   "codemirror_mode": {
    "name": "ipython",
    "version": 3
   },
   "file_extension": ".py",
   "mimetype": "text/x-python",
   "name": "python",
   "nbconvert_exporter": "python",
   "pygments_lexer": "ipython3",
   "version": "3.11.9"
  }
 },
 "nbformat": 4,
 "nbformat_minor": 5
}
