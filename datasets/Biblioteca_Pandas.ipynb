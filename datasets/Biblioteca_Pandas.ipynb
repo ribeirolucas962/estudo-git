{
 "cells": [
  {
   "cell_type": "markdown",
   "id": "72f8558c",
   "metadata": {},
   "source": [
    "# Aprofundado na biblioteca `pandas` do `Python`"
   ]
  },
  {
   "cell_type": "code",
   "execution_count": 66,
   "id": "3135e2d9",
   "metadata": {},
   "outputs": [
    {
     "name": "stdout",
     "output_type": "stream",
     "text": [
      "Requirement already satisfied: openpyxl in c:\\users\\usuario\\anaconda3\\envs\\anbiente-teste\\lib\\site-packages (3.1.5)\n",
      "Requirement already satisfied: et-xmlfile in c:\\users\\usuario\\anaconda3\\envs\\anbiente-teste\\lib\\site-packages (from openpyxl) (2.0.0)\n",
      "Note: you may need to restart the kernel to use updated packages.\n"
     ]
    },
    {
     "name": "stderr",
     "output_type": "stream",
     "text": [
      "\n",
      "[notice] A new release of pip is available: 25.1 -> 25.2\n",
      "[notice] To update, run: python.exe -m pip install --upgrade pip\n"
     ]
    }
   ],
   "source": [
    "pip install openpyxl"
   ]
  },
  {
   "cell_type": "code",
   "execution_count": 67,
   "id": "691788bf",
   "metadata": {},
   "outputs": [],
   "source": [
    "# Importando a biblioteca pandas\n",
    "import pandas as pd"
   ]
  },
  {
   "cell_type": "code",
   "execution_count": 68,
   "id": "615d5789",
   "metadata": {},
   "outputs": [],
   "source": [
    "df = pd.DataFrame(\n",
    "    {\n",
    "        \"Name\":[\n",
    "            \"Lucas Ribeiro\",\n",
    "            \"Elenice Tizziani\",\n",
    "            \"Fernando Tizziani\",\n",
    "            \"Karem Nepomuceno\",\n",
    "            \"Ana Clara Nepomuceno\",\n",
    "            \"Paula vieira\",\n",
    "            \"Ciro Nepomuceno\",\n",
    "            \"Maria Eduarda Nepomuceno\",\n",
    "            \"JOse Caçdeira\",\n",
    "            \"Augusta Ribeiro\",\n",
    "\n",
    "    ],\n",
    "        \"idade\":[45, 48, 25, 12, 18, 45, 32, 16, 73, 70],\n",
    "        \"cidade\":[\n",
    "            \"Araçuai\",\"Capanema\",\n",
    "            \"Vilhena\",\"Vilhena\",\n",
    "            \"Belo Horizonte\",\"Rio de Janeiro\",\n",
    "            \"Araçuai\",\"Curitiba\",\n",
    "            \"Araçuai\",\"Araçuai\"\n",
    "        ],\n",
    "        \"estado\":[\n",
    "            \"MG\",\"PR\",\n",
    "            \"RO\",\"RO\",\n",
    "            \"MG\",\"RJ\",\n",
    "            \"MG\",\"PR\",\n",
    "            \"MG\",\"MG\",\n",
    "        ],\n",
    "        \"sexo\":[\n",
    "            \"M\",\"F\",\n",
    "            \"M\",\"F\",\n",
    "            \"F\",\"F\",\n",
    "            \"M\",\"F\",\n",
    "            \"M\",\"F\"\n",
    "        ],\n",
    "        \"grau de instrução\":[\n",
    "            \"Mestrado\",\"Doutorado\",\n",
    "            \"Superior Completo\",\"Ensino Médio\",\n",
    "            \"Superior Completo\",\"Ensino Médio\",\n",
    "            \"Ensino Fundamental Incompleto\",\"Ensino Médio\",\n",
    "            \"Ensino Fundamental Incompleto\",\"Ensino Fundamental Incompleto\"\n",
    "        ],\n",
    "\n",
    "\n",
    "}\n",
    ")"
   ]
  },
  {
   "cell_type": "code",
   "execution_count": 69,
   "id": "79f20b86",
   "metadata": {},
   "outputs": [
    {
     "data": {
      "application/vnd.microsoft.datawrangler.viewer.v0+json": {
       "columns": [
        {
         "name": "index",
         "rawType": "int64",
         "type": "integer"
        },
        {
         "name": "Name",
         "rawType": "object",
         "type": "string"
        },
        {
         "name": "idade",
         "rawType": "int64",
         "type": "integer"
        },
        {
         "name": "cidade",
         "rawType": "object",
         "type": "string"
        },
        {
         "name": "estado",
         "rawType": "object",
         "type": "string"
        },
        {
         "name": "sexo",
         "rawType": "object",
         "type": "string"
        },
        {
         "name": "grau de instrução",
         "rawType": "object",
         "type": "string"
        }
       ],
       "ref": "4c1a86bf-c6de-4add-a855-4e4550d06a17",
       "rows": [
        [
         "0",
         "Lucas Ribeiro",
         "45",
         "Araçuai",
         "MG",
         "M",
         "Mestrado"
        ],
        [
         "1",
         "Elenice Tizziani",
         "48",
         "Capanema",
         "PR",
         "F",
         "Doutorado"
        ],
        [
         "2",
         "Fernando Tizziani",
         "25",
         "Vilhena",
         "RO",
         "M",
         "Superior Completo"
        ],
        [
         "3",
         "Karem Nepomuceno",
         "12",
         "Vilhena",
         "RO",
         "F",
         "Ensino Médio"
        ],
        [
         "4",
         "Ana Clara Nepomuceno",
         "18",
         "Belo Horizonte",
         "MG",
         "F",
         "Superior Completo"
        ],
        [
         "5",
         "Paula vieira",
         "45",
         "Rio de Janeiro",
         "RJ",
         "F",
         "Ensino Médio"
        ],
        [
         "6",
         "Ciro Nepomuceno",
         "32",
         "Araçuai",
         "MG",
         "M",
         "Ensino Fundamental Incompleto"
        ],
        [
         "7",
         "Maria Eduarda Nepomuceno",
         "16",
         "Curitiba",
         "PR",
         "F",
         "Ensino Médio"
        ],
        [
         "8",
         "JOse Caçdeira",
         "73",
         "Araçuai",
         "MG",
         "M",
         "Ensino Fundamental Incompleto"
        ],
        [
         "9",
         "Augusta Ribeiro",
         "70",
         "Araçuai",
         "MG",
         "F",
         "Ensino Fundamental Incompleto"
        ]
       ],
       "shape": {
        "columns": 6,
        "rows": 10
       }
      },
      "text/html": [
       "<div>\n",
       "<style scoped>\n",
       "    .dataframe tbody tr th:only-of-type {\n",
       "        vertical-align: middle;\n",
       "    }\n",
       "\n",
       "    .dataframe tbody tr th {\n",
       "        vertical-align: top;\n",
       "    }\n",
       "\n",
       "    .dataframe thead th {\n",
       "        text-align: right;\n",
       "    }\n",
       "</style>\n",
       "<table border=\"1\" class=\"dataframe\">\n",
       "  <thead>\n",
       "    <tr style=\"text-align: right;\">\n",
       "      <th></th>\n",
       "      <th>Name</th>\n",
       "      <th>idade</th>\n",
       "      <th>cidade</th>\n",
       "      <th>estado</th>\n",
       "      <th>sexo</th>\n",
       "      <th>grau de instrução</th>\n",
       "    </tr>\n",
       "  </thead>\n",
       "  <tbody>\n",
       "    <tr>\n",
       "      <th>0</th>\n",
       "      <td>Lucas Ribeiro</td>\n",
       "      <td>45</td>\n",
       "      <td>Araçuai</td>\n",
       "      <td>MG</td>\n",
       "      <td>M</td>\n",
       "      <td>Mestrado</td>\n",
       "    </tr>\n",
       "    <tr>\n",
       "      <th>1</th>\n",
       "      <td>Elenice Tizziani</td>\n",
       "      <td>48</td>\n",
       "      <td>Capanema</td>\n",
       "      <td>PR</td>\n",
       "      <td>F</td>\n",
       "      <td>Doutorado</td>\n",
       "    </tr>\n",
       "    <tr>\n",
       "      <th>2</th>\n",
       "      <td>Fernando Tizziani</td>\n",
       "      <td>25</td>\n",
       "      <td>Vilhena</td>\n",
       "      <td>RO</td>\n",
       "      <td>M</td>\n",
       "      <td>Superior Completo</td>\n",
       "    </tr>\n",
       "    <tr>\n",
       "      <th>3</th>\n",
       "      <td>Karem Nepomuceno</td>\n",
       "      <td>12</td>\n",
       "      <td>Vilhena</td>\n",
       "      <td>RO</td>\n",
       "      <td>F</td>\n",
       "      <td>Ensino Médio</td>\n",
       "    </tr>\n",
       "    <tr>\n",
       "      <th>4</th>\n",
       "      <td>Ana Clara Nepomuceno</td>\n",
       "      <td>18</td>\n",
       "      <td>Belo Horizonte</td>\n",
       "      <td>MG</td>\n",
       "      <td>F</td>\n",
       "      <td>Superior Completo</td>\n",
       "    </tr>\n",
       "    <tr>\n",
       "      <th>5</th>\n",
       "      <td>Paula vieira</td>\n",
       "      <td>45</td>\n",
       "      <td>Rio de Janeiro</td>\n",
       "      <td>RJ</td>\n",
       "      <td>F</td>\n",
       "      <td>Ensino Médio</td>\n",
       "    </tr>\n",
       "    <tr>\n",
       "      <th>6</th>\n",
       "      <td>Ciro Nepomuceno</td>\n",
       "      <td>32</td>\n",
       "      <td>Araçuai</td>\n",
       "      <td>MG</td>\n",
       "      <td>M</td>\n",
       "      <td>Ensino Fundamental Incompleto</td>\n",
       "    </tr>\n",
       "    <tr>\n",
       "      <th>7</th>\n",
       "      <td>Maria Eduarda Nepomuceno</td>\n",
       "      <td>16</td>\n",
       "      <td>Curitiba</td>\n",
       "      <td>PR</td>\n",
       "      <td>F</td>\n",
       "      <td>Ensino Médio</td>\n",
       "    </tr>\n",
       "    <tr>\n",
       "      <th>8</th>\n",
       "      <td>JOse Caçdeira</td>\n",
       "      <td>73</td>\n",
       "      <td>Araçuai</td>\n",
       "      <td>MG</td>\n",
       "      <td>M</td>\n",
       "      <td>Ensino Fundamental Incompleto</td>\n",
       "    </tr>\n",
       "    <tr>\n",
       "      <th>9</th>\n",
       "      <td>Augusta Ribeiro</td>\n",
       "      <td>70</td>\n",
       "      <td>Araçuai</td>\n",
       "      <td>MG</td>\n",
       "      <td>F</td>\n",
       "      <td>Ensino Fundamental Incompleto</td>\n",
       "    </tr>\n",
       "  </tbody>\n",
       "</table>\n",
       "</div>"
      ],
      "text/plain": [
       "                       Name  idade          cidade estado sexo  \\\n",
       "0             Lucas Ribeiro     45         Araçuai     MG    M   \n",
       "1          Elenice Tizziani     48        Capanema     PR    F   \n",
       "2         Fernando Tizziani     25         Vilhena     RO    M   \n",
       "3          Karem Nepomuceno     12         Vilhena     RO    F   \n",
       "4      Ana Clara Nepomuceno     18  Belo Horizonte     MG    F   \n",
       "5              Paula vieira     45  Rio de Janeiro     RJ    F   \n",
       "6           Ciro Nepomuceno     32         Araçuai     MG    M   \n",
       "7  Maria Eduarda Nepomuceno     16        Curitiba     PR    F   \n",
       "8             JOse Caçdeira     73         Araçuai     MG    M   \n",
       "9           Augusta Ribeiro     70         Araçuai     MG    F   \n",
       "\n",
       "               grau de instrução  \n",
       "0                       Mestrado  \n",
       "1                      Doutorado  \n",
       "2              Superior Completo  \n",
       "3                   Ensino Médio  \n",
       "4              Superior Completo  \n",
       "5                   Ensino Médio  \n",
       "6  Ensino Fundamental Incompleto  \n",
       "7                   Ensino Médio  \n",
       "8  Ensino Fundamental Incompleto  \n",
       "9  Ensino Fundamental Incompleto  "
      ]
     },
     "execution_count": 69,
     "metadata": {},
     "output_type": "execute_result"
    }
   ],
   "source": [
    "df"
   ]
  },
  {
   "cell_type": "code",
   "execution_count": 70,
   "id": "f6cc09e6",
   "metadata": {},
   "outputs": [
    {
     "data": {
      "application/vnd.microsoft.datawrangler.viewer.v0+json": {
       "columns": [
        {
         "name": "index",
         "rawType": "int64",
         "type": "integer"
        },
        {
         "name": "idade",
         "rawType": "bool",
         "type": "boolean"
        }
       ],
       "ref": "bd27085c-85b0-4038-b5ae-c61a00c5ba81",
       "rows": [
        [
         "0",
         "True"
        ],
        [
         "1",
         "True"
        ],
        [
         "2",
         "True"
        ],
        [
         "3",
         "False"
        ],
        [
         "4",
         "True"
        ],
        [
         "5",
         "True"
        ],
        [
         "6",
         "True"
        ],
        [
         "7",
         "False"
        ],
        [
         "8",
         "True"
        ],
        [
         "9",
         "True"
        ]
       ],
       "shape": {
        "columns": 1,
        "rows": 10
       }
      },
      "text/plain": [
       "0     True\n",
       "1     True\n",
       "2     True\n",
       "3    False\n",
       "4     True\n",
       "5     True\n",
       "6     True\n",
       "7    False\n",
       "8     True\n",
       "9     True\n",
       "Name: idade, dtype: bool"
      ]
     },
     "execution_count": 70,
     "metadata": {},
     "output_type": "execute_result"
    }
   ],
   "source": [
    "df[\"idade\"]>=18"
   ]
  },
  {
   "cell_type": "code",
   "execution_count": 71,
   "id": "643b47ef",
   "metadata": {},
   "outputs": [
    {
     "data": {
      "application/vnd.microsoft.datawrangler.viewer.v0+json": {
       "columns": [
        {
         "name": "index",
         "rawType": "int64",
         "type": "integer"
        },
        {
         "name": "idade",
         "rawType": "int64",
         "type": "integer"
        }
       ],
       "ref": "17e2a427-d6d3-446b-8a34-5183af9f21c4",
       "rows": [
        [
         "0",
         "45"
        ],
        [
         "1",
         "48"
        ],
        [
         "2",
         "25"
        ],
        [
         "3",
         "12"
        ],
        [
         "4",
         "18"
        ],
        [
         "5",
         "45"
        ],
        [
         "6",
         "80"
        ],
        [
         "7",
         "16"
        ],
        [
         "8",
         "73"
        ],
        [
         "9",
         "70"
        ]
       ],
       "shape": {
        "columns": 1,
        "rows": 10
       }
      },
      "text/plain": [
       "0    45\n",
       "1    48\n",
       "2    25\n",
       "3    12\n",
       "4    18\n",
       "5    45\n",
       "6    80\n",
       "7    16\n",
       "8    73\n",
       "9    70\n",
       "Name: idade, dtype: int64"
      ]
     },
     "execution_count": 71,
     "metadata": {},
     "output_type": "execute_result"
    }
   ],
   "source": [
    "ages= pd.Series([ 45, 48, 25, 12, 18, 45, 80, 16, 73, 70], name=\"idade\")\n",
    "ages"
   ]
  },
  {
   "cell_type": "markdown",
   "id": "cc213d69",
   "metadata": {},
   "source": [
    "#fazendo alguns analise com o DataFrame criado com a biblioteca `pandas` do `Python`."
   ]
  },
  {
   "cell_type": "code",
   "execution_count": 72,
   "id": "522419b0",
   "metadata": {},
   "outputs": [
    {
     "data": {
      "text/plain": [
       "np.int64(73)"
      ]
     },
     "execution_count": 72,
     "metadata": {},
     "output_type": "execute_result"
    }
   ],
   "source": [
    "df[\"idade\"].max()"
   ]
  },
  {
   "cell_type": "code",
   "execution_count": 73,
   "id": "57020a40",
   "metadata": {},
   "outputs": [
    {
     "data": {
      "application/vnd.microsoft.datawrangler.viewer.v0+json": {
       "columns": [
        {
         "name": "index",
         "rawType": "object",
         "type": "string"
        },
        {
         "name": "idade",
         "rawType": "float64",
         "type": "float"
        }
       ],
       "ref": "c3374e6b-2f96-4d54-b2a4-376e26b57888",
       "rows": [
        [
         "count",
         "10.0"
        ],
        [
         "mean",
         "38.4"
        ],
        [
         "std",
         "21.629198372159387"
        ],
        [
         "min",
         "12.0"
        ],
        [
         "25%",
         "19.75"
        ],
        [
         "50%",
         "38.5"
        ],
        [
         "75%",
         "47.25"
        ],
        [
         "max",
         "73.0"
        ]
       ],
       "shape": {
        "columns": 1,
        "rows": 8
       }
      },
      "text/html": [
       "<div>\n",
       "<style scoped>\n",
       "    .dataframe tbody tr th:only-of-type {\n",
       "        vertical-align: middle;\n",
       "    }\n",
       "\n",
       "    .dataframe tbody tr th {\n",
       "        vertical-align: top;\n",
       "    }\n",
       "\n",
       "    .dataframe thead th {\n",
       "        text-align: right;\n",
       "    }\n",
       "</style>\n",
       "<table border=\"1\" class=\"dataframe\">\n",
       "  <thead>\n",
       "    <tr style=\"text-align: right;\">\n",
       "      <th></th>\n",
       "      <th>idade</th>\n",
       "    </tr>\n",
       "  </thead>\n",
       "  <tbody>\n",
       "    <tr>\n",
       "      <th>count</th>\n",
       "      <td>10.000000</td>\n",
       "    </tr>\n",
       "    <tr>\n",
       "      <th>mean</th>\n",
       "      <td>38.400000</td>\n",
       "    </tr>\n",
       "    <tr>\n",
       "      <th>std</th>\n",
       "      <td>21.629198</td>\n",
       "    </tr>\n",
       "    <tr>\n",
       "      <th>min</th>\n",
       "      <td>12.000000</td>\n",
       "    </tr>\n",
       "    <tr>\n",
       "      <th>25%</th>\n",
       "      <td>19.750000</td>\n",
       "    </tr>\n",
       "    <tr>\n",
       "      <th>50%</th>\n",
       "      <td>38.500000</td>\n",
       "    </tr>\n",
       "    <tr>\n",
       "      <th>75%</th>\n",
       "      <td>47.250000</td>\n",
       "    </tr>\n",
       "    <tr>\n",
       "      <th>max</th>\n",
       "      <td>73.000000</td>\n",
       "    </tr>\n",
       "  </tbody>\n",
       "</table>\n",
       "</div>"
      ],
      "text/plain": [
       "           idade\n",
       "count  10.000000\n",
       "mean   38.400000\n",
       "std    21.629198\n",
       "min    12.000000\n",
       "25%    19.750000\n",
       "50%    38.500000\n",
       "75%    47.250000\n",
       "max    73.000000"
      ]
     },
     "execution_count": 73,
     "metadata": {},
     "output_type": "execute_result"
    }
   ],
   "source": [
    "# Estatisticas descritivas\n",
    "df.describe()"
   ]
  },
  {
   "cell_type": "markdown",
   "id": "d831d431",
   "metadata": {},
   "source": [
    "# Como ler os dados tabulares. "
   ]
  },
  {
   "cell_type": "code",
   "execution_count": 74,
   "id": "4731c8cc",
   "metadata": {},
   "outputs": [
    {
     "ename": "FileNotFoundError",
     "evalue": "[Errno 2] No such file or directory: '//nepomuceno/Users/Usuario/estudo-git/titanic_completa_oficial.csv'",
     "output_type": "error",
     "traceback": [
      "\u001b[1;31m---------------------------------------------------------------------------\u001b[0m",
      "\u001b[1;31mFileNotFoundError\u001b[0m                         Traceback (most recent call last)",
      "Cell \u001b[1;32mIn[74], line 1\u001b[0m\n\u001b[1;32m----> 1\u001b[0m titanic \u001b[38;5;241m=\u001b[39m pd\u001b[38;5;241m.\u001b[39mread_csv(\u001b[38;5;124m\"\u001b[39m\u001b[38;5;124m//nepomuceno/Users/Usuario/estudo-git/titanic_completa_oficial.csv\u001b[39m\u001b[38;5;124m\"\u001b[39m)\n\u001b[0;32m      2\u001b[0m titanic\u001b[38;5;241m.\u001b[39mhead(\u001b[38;5;241m10\u001b[39m)\n",
      "File \u001b[1;32mc:\\Users\\Usuario\\anaconda3\\envs\\Anbiente-teste\\Lib\\site-packages\\pandas\\io\\parsers\\readers.py:1026\u001b[0m, in \u001b[0;36mread_csv\u001b[1;34m(filepath_or_buffer, sep, delimiter, header, names, index_col, usecols, dtype, engine, converters, true_values, false_values, skipinitialspace, skiprows, skipfooter, nrows, na_values, keep_default_na, na_filter, verbose, skip_blank_lines, parse_dates, infer_datetime_format, keep_date_col, date_parser, date_format, dayfirst, cache_dates, iterator, chunksize, compression, thousands, decimal, lineterminator, quotechar, quoting, doublequote, escapechar, comment, encoding, encoding_errors, dialect, on_bad_lines, delim_whitespace, low_memory, memory_map, float_precision, storage_options, dtype_backend)\u001b[0m\n\u001b[0;32m   1013\u001b[0m kwds_defaults \u001b[38;5;241m=\u001b[39m _refine_defaults_read(\n\u001b[0;32m   1014\u001b[0m     dialect,\n\u001b[0;32m   1015\u001b[0m     delimiter,\n\u001b[1;32m   (...)\u001b[0m\n\u001b[0;32m   1022\u001b[0m     dtype_backend\u001b[38;5;241m=\u001b[39mdtype_backend,\n\u001b[0;32m   1023\u001b[0m )\n\u001b[0;32m   1024\u001b[0m kwds\u001b[38;5;241m.\u001b[39mupdate(kwds_defaults)\n\u001b[1;32m-> 1026\u001b[0m \u001b[38;5;28;01mreturn\u001b[39;00m _read(filepath_or_buffer, kwds)\n",
      "File \u001b[1;32mc:\\Users\\Usuario\\anaconda3\\envs\\Anbiente-teste\\Lib\\site-packages\\pandas\\io\\parsers\\readers.py:620\u001b[0m, in \u001b[0;36m_read\u001b[1;34m(filepath_or_buffer, kwds)\u001b[0m\n\u001b[0;32m    617\u001b[0m _validate_names(kwds\u001b[38;5;241m.\u001b[39mget(\u001b[38;5;124m\"\u001b[39m\u001b[38;5;124mnames\u001b[39m\u001b[38;5;124m\"\u001b[39m, \u001b[38;5;28;01mNone\u001b[39;00m))\n\u001b[0;32m    619\u001b[0m \u001b[38;5;66;03m# Create the parser.\u001b[39;00m\n\u001b[1;32m--> 620\u001b[0m parser \u001b[38;5;241m=\u001b[39m TextFileReader(filepath_or_buffer, \u001b[38;5;241m*\u001b[39m\u001b[38;5;241m*\u001b[39mkwds)\n\u001b[0;32m    622\u001b[0m \u001b[38;5;28;01mif\u001b[39;00m chunksize \u001b[38;5;129;01mor\u001b[39;00m iterator:\n\u001b[0;32m    623\u001b[0m     \u001b[38;5;28;01mreturn\u001b[39;00m parser\n",
      "File \u001b[1;32mc:\\Users\\Usuario\\anaconda3\\envs\\Anbiente-teste\\Lib\\site-packages\\pandas\\io\\parsers\\readers.py:1620\u001b[0m, in \u001b[0;36mTextFileReader.__init__\u001b[1;34m(self, f, engine, **kwds)\u001b[0m\n\u001b[0;32m   1617\u001b[0m     \u001b[38;5;28mself\u001b[39m\u001b[38;5;241m.\u001b[39moptions[\u001b[38;5;124m\"\u001b[39m\u001b[38;5;124mhas_index_names\u001b[39m\u001b[38;5;124m\"\u001b[39m] \u001b[38;5;241m=\u001b[39m kwds[\u001b[38;5;124m\"\u001b[39m\u001b[38;5;124mhas_index_names\u001b[39m\u001b[38;5;124m\"\u001b[39m]\n\u001b[0;32m   1619\u001b[0m \u001b[38;5;28mself\u001b[39m\u001b[38;5;241m.\u001b[39mhandles: IOHandles \u001b[38;5;241m|\u001b[39m \u001b[38;5;28;01mNone\u001b[39;00m \u001b[38;5;241m=\u001b[39m \u001b[38;5;28;01mNone\u001b[39;00m\n\u001b[1;32m-> 1620\u001b[0m \u001b[38;5;28mself\u001b[39m\u001b[38;5;241m.\u001b[39m_engine \u001b[38;5;241m=\u001b[39m \u001b[38;5;28mself\u001b[39m\u001b[38;5;241m.\u001b[39m_make_engine(f, \u001b[38;5;28mself\u001b[39m\u001b[38;5;241m.\u001b[39mengine)\n",
      "File \u001b[1;32mc:\\Users\\Usuario\\anaconda3\\envs\\Anbiente-teste\\Lib\\site-packages\\pandas\\io\\parsers\\readers.py:1880\u001b[0m, in \u001b[0;36mTextFileReader._make_engine\u001b[1;34m(self, f, engine)\u001b[0m\n\u001b[0;32m   1878\u001b[0m     \u001b[38;5;28;01mif\u001b[39;00m \u001b[38;5;124m\"\u001b[39m\u001b[38;5;124mb\u001b[39m\u001b[38;5;124m\"\u001b[39m \u001b[38;5;129;01mnot\u001b[39;00m \u001b[38;5;129;01min\u001b[39;00m mode:\n\u001b[0;32m   1879\u001b[0m         mode \u001b[38;5;241m+\u001b[39m\u001b[38;5;241m=\u001b[39m \u001b[38;5;124m\"\u001b[39m\u001b[38;5;124mb\u001b[39m\u001b[38;5;124m\"\u001b[39m\n\u001b[1;32m-> 1880\u001b[0m \u001b[38;5;28mself\u001b[39m\u001b[38;5;241m.\u001b[39mhandles \u001b[38;5;241m=\u001b[39m get_handle(\n\u001b[0;32m   1881\u001b[0m     f,\n\u001b[0;32m   1882\u001b[0m     mode,\n\u001b[0;32m   1883\u001b[0m     encoding\u001b[38;5;241m=\u001b[39m\u001b[38;5;28mself\u001b[39m\u001b[38;5;241m.\u001b[39moptions\u001b[38;5;241m.\u001b[39mget(\u001b[38;5;124m\"\u001b[39m\u001b[38;5;124mencoding\u001b[39m\u001b[38;5;124m\"\u001b[39m, \u001b[38;5;28;01mNone\u001b[39;00m),\n\u001b[0;32m   1884\u001b[0m     compression\u001b[38;5;241m=\u001b[39m\u001b[38;5;28mself\u001b[39m\u001b[38;5;241m.\u001b[39moptions\u001b[38;5;241m.\u001b[39mget(\u001b[38;5;124m\"\u001b[39m\u001b[38;5;124mcompression\u001b[39m\u001b[38;5;124m\"\u001b[39m, \u001b[38;5;28;01mNone\u001b[39;00m),\n\u001b[0;32m   1885\u001b[0m     memory_map\u001b[38;5;241m=\u001b[39m\u001b[38;5;28mself\u001b[39m\u001b[38;5;241m.\u001b[39moptions\u001b[38;5;241m.\u001b[39mget(\u001b[38;5;124m\"\u001b[39m\u001b[38;5;124mmemory_map\u001b[39m\u001b[38;5;124m\"\u001b[39m, \u001b[38;5;28;01mFalse\u001b[39;00m),\n\u001b[0;32m   1886\u001b[0m     is_text\u001b[38;5;241m=\u001b[39mis_text,\n\u001b[0;32m   1887\u001b[0m     errors\u001b[38;5;241m=\u001b[39m\u001b[38;5;28mself\u001b[39m\u001b[38;5;241m.\u001b[39moptions\u001b[38;5;241m.\u001b[39mget(\u001b[38;5;124m\"\u001b[39m\u001b[38;5;124mencoding_errors\u001b[39m\u001b[38;5;124m\"\u001b[39m, \u001b[38;5;124m\"\u001b[39m\u001b[38;5;124mstrict\u001b[39m\u001b[38;5;124m\"\u001b[39m),\n\u001b[0;32m   1888\u001b[0m     storage_options\u001b[38;5;241m=\u001b[39m\u001b[38;5;28mself\u001b[39m\u001b[38;5;241m.\u001b[39moptions\u001b[38;5;241m.\u001b[39mget(\u001b[38;5;124m\"\u001b[39m\u001b[38;5;124mstorage_options\u001b[39m\u001b[38;5;124m\"\u001b[39m, \u001b[38;5;28;01mNone\u001b[39;00m),\n\u001b[0;32m   1889\u001b[0m )\n\u001b[0;32m   1890\u001b[0m \u001b[38;5;28;01massert\u001b[39;00m \u001b[38;5;28mself\u001b[39m\u001b[38;5;241m.\u001b[39mhandles \u001b[38;5;129;01mis\u001b[39;00m \u001b[38;5;129;01mnot\u001b[39;00m \u001b[38;5;28;01mNone\u001b[39;00m\n\u001b[0;32m   1891\u001b[0m f \u001b[38;5;241m=\u001b[39m \u001b[38;5;28mself\u001b[39m\u001b[38;5;241m.\u001b[39mhandles\u001b[38;5;241m.\u001b[39mhandle\n",
      "File \u001b[1;32mc:\\Users\\Usuario\\anaconda3\\envs\\Anbiente-teste\\Lib\\site-packages\\pandas\\io\\common.py:873\u001b[0m, in \u001b[0;36mget_handle\u001b[1;34m(path_or_buf, mode, encoding, compression, memory_map, is_text, errors, storage_options)\u001b[0m\n\u001b[0;32m    868\u001b[0m \u001b[38;5;28;01melif\u001b[39;00m \u001b[38;5;28misinstance\u001b[39m(handle, \u001b[38;5;28mstr\u001b[39m):\n\u001b[0;32m    869\u001b[0m     \u001b[38;5;66;03m# Check whether the filename is to be opened in binary mode.\u001b[39;00m\n\u001b[0;32m    870\u001b[0m     \u001b[38;5;66;03m# Binary mode does not support 'encoding' and 'newline'.\u001b[39;00m\n\u001b[0;32m    871\u001b[0m     \u001b[38;5;28;01mif\u001b[39;00m ioargs\u001b[38;5;241m.\u001b[39mencoding \u001b[38;5;129;01mand\u001b[39;00m \u001b[38;5;124m\"\u001b[39m\u001b[38;5;124mb\u001b[39m\u001b[38;5;124m\"\u001b[39m \u001b[38;5;129;01mnot\u001b[39;00m \u001b[38;5;129;01min\u001b[39;00m ioargs\u001b[38;5;241m.\u001b[39mmode:\n\u001b[0;32m    872\u001b[0m         \u001b[38;5;66;03m# Encoding\u001b[39;00m\n\u001b[1;32m--> 873\u001b[0m         handle \u001b[38;5;241m=\u001b[39m \u001b[38;5;28mopen\u001b[39m(\n\u001b[0;32m    874\u001b[0m             handle,\n\u001b[0;32m    875\u001b[0m             ioargs\u001b[38;5;241m.\u001b[39mmode,\n\u001b[0;32m    876\u001b[0m             encoding\u001b[38;5;241m=\u001b[39mioargs\u001b[38;5;241m.\u001b[39mencoding,\n\u001b[0;32m    877\u001b[0m             errors\u001b[38;5;241m=\u001b[39merrors,\n\u001b[0;32m    878\u001b[0m             newline\u001b[38;5;241m=\u001b[39m\u001b[38;5;124m\"\u001b[39m\u001b[38;5;124m\"\u001b[39m,\n\u001b[0;32m    879\u001b[0m         )\n\u001b[0;32m    880\u001b[0m     \u001b[38;5;28;01melse\u001b[39;00m:\n\u001b[0;32m    881\u001b[0m         \u001b[38;5;66;03m# Binary mode\u001b[39;00m\n\u001b[0;32m    882\u001b[0m         handle \u001b[38;5;241m=\u001b[39m \u001b[38;5;28mopen\u001b[39m(handle, ioargs\u001b[38;5;241m.\u001b[39mmode)\n",
      "\u001b[1;31mFileNotFoundError\u001b[0m: [Errno 2] No such file or directory: '//nepomuceno/Users/Usuario/estudo-git/titanic_completa_oficial.csv'"
     ]
    }
   ],
   "source": [
    "titanic = pd.read_csv(\"//nepomuceno/Users/Usuario/estudo-git/titanic_completa_oficial.csv\")\n",
    "titanic.head(10)  "
   ]
  },
  {
   "cell_type": "code",
   "execution_count": null,
   "id": "5975da4c",
   "metadata": {},
   "outputs": [
    {
     "data": {
      "application/vnd.microsoft.datawrangler.viewer.v0+json": {
       "columns": [
        {
         "name": "index",
         "rawType": "int64",
         "type": "integer"
        },
        {
         "name": "pclass",
         "rawType": "int64",
         "type": "integer"
        },
        {
         "name": "survived",
         "rawType": "int64",
         "type": "integer"
        },
        {
         "name": "name",
         "rawType": "object",
         "type": "string"
        },
        {
         "name": "sex",
         "rawType": "object",
         "type": "string"
        },
        {
         "name": "age",
         "rawType": "object",
         "type": "string"
        },
        {
         "name": "sibsp",
         "rawType": "int64",
         "type": "integer"
        },
        {
         "name": "parch",
         "rawType": "int64",
         "type": "integer"
        },
        {
         "name": "ticket",
         "rawType": "object",
         "type": "string"
        },
        {
         "name": "fare",
         "rawType": "object",
         "type": "string"
        },
        {
         "name": "cabin",
         "rawType": "object",
         "type": "string"
        },
        {
         "name": "embarked",
         "rawType": "object",
         "type": "string"
        },
        {
         "name": "boat",
         "rawType": "object",
         "type": "string"
        },
        {
         "name": "body",
         "rawType": "object",
         "type": "string"
        },
        {
         "name": "home.dest",
         "rawType": "object",
         "type": "string"
        }
       ],
       "ref": "33b682e3-87b2-43ba-ae59-752bffe9c38f",
       "rows": [
        [
         "1299",
         "3",
         "0",
         "Yasbeck, Mr. Antoni",
         "male",
         "27",
         "1",
         "0",
         "2659",
         "14.4542",
         "?",
         "C",
         "C",
         "?",
         "?"
        ],
        [
         "1300",
         "3",
         "1",
         "Yasbeck, Mrs. Antoni (Selini Alexander)",
         "female",
         "15",
         "1",
         "0",
         "2659",
         "14.4542",
         "?",
         "C",
         "?",
         "?",
         "?"
        ],
        [
         "1301",
         "3",
         "0",
         "Youseff, Mr. Gerious",
         "male",
         "45.5",
         "0",
         "0",
         "2628",
         "7.225",
         "?",
         "C",
         "?",
         "312",
         "?"
        ],
        [
         "1302",
         "3",
         "0",
         "Yousif, Mr. Wazli",
         "male",
         "?",
         "0",
         "0",
         "2647",
         "7.225",
         "?",
         "C",
         "?",
         "?",
         "?"
        ],
        [
         "1303",
         "3",
         "0",
         "Yousseff, Mr. Gerious",
         "male",
         "?",
         "0",
         "0",
         "2627",
         "14.4583",
         "?",
         "C",
         "?",
         "?",
         "?"
        ],
        [
         "1304",
         "3",
         "0",
         "Zabour, Miss. Hileni",
         "female",
         "14.5",
         "1",
         "0",
         "2665",
         "14.4542",
         "?",
         "C",
         "?",
         "328",
         "?"
        ],
        [
         "1305",
         "3",
         "0",
         "Zabour, Miss. Thamine",
         "female",
         "?",
         "1",
         "0",
         "2665",
         "14.4542",
         "?",
         "C",
         "?",
         "?",
         "?"
        ],
        [
         "1306",
         "3",
         "0",
         "Zakarian, Mr. Mapriededer",
         "male",
         "26.5",
         "0",
         "0",
         "2656",
         "7.225",
         "?",
         "C",
         "?",
         "304",
         "?"
        ],
        [
         "1307",
         "3",
         "0",
         "Zakarian, Mr. Ortin",
         "male",
         "27",
         "0",
         "0",
         "2670",
         "7.225",
         "?",
         "C",
         "?",
         "?",
         "?"
        ],
        [
         "1308",
         "3",
         "0",
         "Zimmerman, Mr. Leo",
         "male",
         "29",
         "0",
         "0",
         "315082",
         "7.875",
         "?",
         "S",
         "?",
         "?",
         "?"
        ]
       ],
       "shape": {
        "columns": 14,
        "rows": 10
       }
      },
      "text/html": [
       "<div>\n",
       "<style scoped>\n",
       "    .dataframe tbody tr th:only-of-type {\n",
       "        vertical-align: middle;\n",
       "    }\n",
       "\n",
       "    .dataframe tbody tr th {\n",
       "        vertical-align: top;\n",
       "    }\n",
       "\n",
       "    .dataframe thead th {\n",
       "        text-align: right;\n",
       "    }\n",
       "</style>\n",
       "<table border=\"1\" class=\"dataframe\">\n",
       "  <thead>\n",
       "    <tr style=\"text-align: right;\">\n",
       "      <th></th>\n",
       "      <th>pclass</th>\n",
       "      <th>survived</th>\n",
       "      <th>name</th>\n",
       "      <th>sex</th>\n",
       "      <th>age</th>\n",
       "      <th>sibsp</th>\n",
       "      <th>parch</th>\n",
       "      <th>ticket</th>\n",
       "      <th>fare</th>\n",
       "      <th>cabin</th>\n",
       "      <th>embarked</th>\n",
       "      <th>boat</th>\n",
       "      <th>body</th>\n",
       "      <th>home.dest</th>\n",
       "    </tr>\n",
       "  </thead>\n",
       "  <tbody>\n",
       "    <tr>\n",
       "      <th>1299</th>\n",
       "      <td>3</td>\n",
       "      <td>0</td>\n",
       "      <td>Yasbeck, Mr. Antoni</td>\n",
       "      <td>male</td>\n",
       "      <td>27</td>\n",
       "      <td>1</td>\n",
       "      <td>0</td>\n",
       "      <td>2659</td>\n",
       "      <td>14.4542</td>\n",
       "      <td>?</td>\n",
       "      <td>C</td>\n",
       "      <td>C</td>\n",
       "      <td>?</td>\n",
       "      <td>?</td>\n",
       "    </tr>\n",
       "    <tr>\n",
       "      <th>1300</th>\n",
       "      <td>3</td>\n",
       "      <td>1</td>\n",
       "      <td>Yasbeck, Mrs. Antoni (Selini Alexander)</td>\n",
       "      <td>female</td>\n",
       "      <td>15</td>\n",
       "      <td>1</td>\n",
       "      <td>0</td>\n",
       "      <td>2659</td>\n",
       "      <td>14.4542</td>\n",
       "      <td>?</td>\n",
       "      <td>C</td>\n",
       "      <td>?</td>\n",
       "      <td>?</td>\n",
       "      <td>?</td>\n",
       "    </tr>\n",
       "    <tr>\n",
       "      <th>1301</th>\n",
       "      <td>3</td>\n",
       "      <td>0</td>\n",
       "      <td>Youseff, Mr. Gerious</td>\n",
       "      <td>male</td>\n",
       "      <td>45.5</td>\n",
       "      <td>0</td>\n",
       "      <td>0</td>\n",
       "      <td>2628</td>\n",
       "      <td>7.225</td>\n",
       "      <td>?</td>\n",
       "      <td>C</td>\n",
       "      <td>?</td>\n",
       "      <td>312</td>\n",
       "      <td>?</td>\n",
       "    </tr>\n",
       "    <tr>\n",
       "      <th>1302</th>\n",
       "      <td>3</td>\n",
       "      <td>0</td>\n",
       "      <td>Yousif, Mr. Wazli</td>\n",
       "      <td>male</td>\n",
       "      <td>?</td>\n",
       "      <td>0</td>\n",
       "      <td>0</td>\n",
       "      <td>2647</td>\n",
       "      <td>7.225</td>\n",
       "      <td>?</td>\n",
       "      <td>C</td>\n",
       "      <td>?</td>\n",
       "      <td>?</td>\n",
       "      <td>?</td>\n",
       "    </tr>\n",
       "    <tr>\n",
       "      <th>1303</th>\n",
       "      <td>3</td>\n",
       "      <td>0</td>\n",
       "      <td>Yousseff, Mr. Gerious</td>\n",
       "      <td>male</td>\n",
       "      <td>?</td>\n",
       "      <td>0</td>\n",
       "      <td>0</td>\n",
       "      <td>2627</td>\n",
       "      <td>14.4583</td>\n",
       "      <td>?</td>\n",
       "      <td>C</td>\n",
       "      <td>?</td>\n",
       "      <td>?</td>\n",
       "      <td>?</td>\n",
       "    </tr>\n",
       "    <tr>\n",
       "      <th>1304</th>\n",
       "      <td>3</td>\n",
       "      <td>0</td>\n",
       "      <td>Zabour, Miss. Hileni</td>\n",
       "      <td>female</td>\n",
       "      <td>14.5</td>\n",
       "      <td>1</td>\n",
       "      <td>0</td>\n",
       "      <td>2665</td>\n",
       "      <td>14.4542</td>\n",
       "      <td>?</td>\n",
       "      <td>C</td>\n",
       "      <td>?</td>\n",
       "      <td>328</td>\n",
       "      <td>?</td>\n",
       "    </tr>\n",
       "    <tr>\n",
       "      <th>1305</th>\n",
       "      <td>3</td>\n",
       "      <td>0</td>\n",
       "      <td>Zabour, Miss. Thamine</td>\n",
       "      <td>female</td>\n",
       "      <td>?</td>\n",
       "      <td>1</td>\n",
       "      <td>0</td>\n",
       "      <td>2665</td>\n",
       "      <td>14.4542</td>\n",
       "      <td>?</td>\n",
       "      <td>C</td>\n",
       "      <td>?</td>\n",
       "      <td>?</td>\n",
       "      <td>?</td>\n",
       "    </tr>\n",
       "    <tr>\n",
       "      <th>1306</th>\n",
       "      <td>3</td>\n",
       "      <td>0</td>\n",
       "      <td>Zakarian, Mr. Mapriededer</td>\n",
       "      <td>male</td>\n",
       "      <td>26.5</td>\n",
       "      <td>0</td>\n",
       "      <td>0</td>\n",
       "      <td>2656</td>\n",
       "      <td>7.225</td>\n",
       "      <td>?</td>\n",
       "      <td>C</td>\n",
       "      <td>?</td>\n",
       "      <td>304</td>\n",
       "      <td>?</td>\n",
       "    </tr>\n",
       "    <tr>\n",
       "      <th>1307</th>\n",
       "      <td>3</td>\n",
       "      <td>0</td>\n",
       "      <td>Zakarian, Mr. Ortin</td>\n",
       "      <td>male</td>\n",
       "      <td>27</td>\n",
       "      <td>0</td>\n",
       "      <td>0</td>\n",
       "      <td>2670</td>\n",
       "      <td>7.225</td>\n",
       "      <td>?</td>\n",
       "      <td>C</td>\n",
       "      <td>?</td>\n",
       "      <td>?</td>\n",
       "      <td>?</td>\n",
       "    </tr>\n",
       "    <tr>\n",
       "      <th>1308</th>\n",
       "      <td>3</td>\n",
       "      <td>0</td>\n",
       "      <td>Zimmerman, Mr. Leo</td>\n",
       "      <td>male</td>\n",
       "      <td>29</td>\n",
       "      <td>0</td>\n",
       "      <td>0</td>\n",
       "      <td>315082</td>\n",
       "      <td>7.875</td>\n",
       "      <td>?</td>\n",
       "      <td>S</td>\n",
       "      <td>?</td>\n",
       "      <td>?</td>\n",
       "      <td>?</td>\n",
       "    </tr>\n",
       "  </tbody>\n",
       "</table>\n",
       "</div>"
      ],
      "text/plain": [
       "      pclass  survived                                     name     sex   age  \\\n",
       "1299       3         0                      Yasbeck, Mr. Antoni    male    27   \n",
       "1300       3         1  Yasbeck, Mrs. Antoni (Selini Alexander)  female    15   \n",
       "1301       3         0                     Youseff, Mr. Gerious    male  45.5   \n",
       "1302       3         0                        Yousif, Mr. Wazli    male     ?   \n",
       "1303       3         0                    Yousseff, Mr. Gerious    male     ?   \n",
       "1304       3         0                     Zabour, Miss. Hileni  female  14.5   \n",
       "1305       3         0                    Zabour, Miss. Thamine  female     ?   \n",
       "1306       3         0                Zakarian, Mr. Mapriededer    male  26.5   \n",
       "1307       3         0                      Zakarian, Mr. Ortin    male    27   \n",
       "1308       3         0                       Zimmerman, Mr. Leo    male    29   \n",
       "\n",
       "      sibsp  parch  ticket     fare cabin embarked boat body home.dest  \n",
       "1299      1      0    2659  14.4542     ?        C    C    ?         ?  \n",
       "1300      1      0    2659  14.4542     ?        C    ?    ?         ?  \n",
       "1301      0      0    2628    7.225     ?        C    ?  312         ?  \n",
       "1302      0      0    2647    7.225     ?        C    ?    ?         ?  \n",
       "1303      0      0    2627  14.4583     ?        C    ?    ?         ?  \n",
       "1304      1      0    2665  14.4542     ?        C    ?  328         ?  \n",
       "1305      1      0    2665  14.4542     ?        C    ?    ?         ?  \n",
       "1306      0      0    2656    7.225     ?        C    ?  304         ?  \n",
       "1307      0      0    2670    7.225     ?        C    ?    ?         ?  \n",
       "1308      0      0  315082    7.875     ?        S    ?    ?         ?  "
      ]
     },
     "execution_count": 60,
     "metadata": {},
     "output_type": "execute_result"
    }
   ],
   "source": [
    "# lendo as 10 ultimas linhas do DataFrame\n",
    "titanic.tail(10)"
   ]
  },
  {
   "cell_type": "markdown",
   "id": "e77a0e1b",
   "metadata": {},
   "source": [
    "`Atributos não exixgem parênteses. E metodo sim`.\n"
   ]
  },
  {
   "cell_type": "code",
   "execution_count": null,
   "id": "fac84f83",
   "metadata": {},
   "outputs": [
    {
     "data": {
      "application/vnd.microsoft.datawrangler.viewer.v0+json": {
       "columns": [
        {
         "name": "index",
         "rawType": "object",
         "type": "string"
        },
        {
         "name": "0",
         "rawType": "object",
         "type": "unknown"
        }
       ],
       "ref": "f8f5d3fc-dfa6-4cd1-b026-1b9445c8d56a",
       "rows": [
        [
         "pclass",
         "int64"
        ],
        [
         "survived",
         "int64"
        ],
        [
         "name",
         "object"
        ],
        [
         "sex",
         "object"
        ],
        [
         "age",
         "object"
        ],
        [
         "sibsp",
         "int64"
        ],
        [
         "parch",
         "int64"
        ],
        [
         "ticket",
         "object"
        ],
        [
         "fare",
         "object"
        ],
        [
         "cabin",
         "object"
        ],
        [
         "embarked",
         "object"
        ],
        [
         "boat",
         "object"
        ],
        [
         "body",
         "object"
        ],
        [
         "home.dest",
         "object"
        ]
       ],
       "shape": {
        "columns": 1,
        "rows": 14
       }
      },
      "text/plain": [
       "pclass        int64\n",
       "survived      int64\n",
       "name         object\n",
       "sex          object\n",
       "age          object\n",
       "sibsp         int64\n",
       "parch         int64\n",
       "ticket       object\n",
       "fare         object\n",
       "cabin        object\n",
       "embarked     object\n",
       "boat         object\n",
       "body         object\n",
       "home.dest    object\n",
       "dtype: object"
      ]
     },
     "execution_count": 61,
     "metadata": {},
     "output_type": "execute_result"
    }
   ],
   "source": [
    "# intepretando tipos de dados\n",
    "titanic.dtypes"
   ]
  },
  {
   "cell_type": "code",
   "execution_count": null,
   "id": "ea569b31",
   "metadata": {},
   "outputs": [],
   "source": [
    "# Salvando o DataFrame em um arquivo Excel. porem é necessario instalar a biblioteca openpyxl\n",
    "titanic.to_excel(\"titanic.xlsx\", sheet_name=\"passengers\", index=False)"
   ]
  }
 ],
 "metadata": {
  "kernelspec": {
   "display_name": "Anbiente-teste",
   "language": "python",
   "name": "python3"
  },
  "language_info": {
   "codemirror_mode": {
    "name": "ipython",
    "version": 3
   },
   "file_extension": ".py",
   "mimetype": "text/x-python",
   "name": "python",
   "nbconvert_exporter": "python",
   "pygments_lexer": "ipython3",
   "version": "3.11.9"
  }
 },
 "nbformat": 4,
 "nbformat_minor": 5
}
