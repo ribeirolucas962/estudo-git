{
 "cells": [
  {
   "cell_type": "markdown",
   "id": "72f8558c",
   "metadata": {},
   "source": [
    "# Aprofundado na biblioteca `pandas` do `Python`"
   ]
  },
  {
   "cell_type": "code",
   "execution_count": 3,
   "id": "691788bf",
   "metadata": {},
   "outputs": [],
   "source": [
    "# Importando a biblioteca pandas\n",
    "import pandas as pd"
   ]
  },
  {
   "cell_type": "code",
   "execution_count": 4,
   "id": "615d5789",
   "metadata": {},
   "outputs": [],
   "source": [
    "df = pd.DataFrame(\n",
    "    {\n",
    "        \"Name\":[\n",
    "            \"Lucas Ribeiro\",\n",
    "            \"Elenice Tizziani\",\n",
    "            \"Fernando Tizziani\",\n",
    "            \"Karem Nepomuceno\",\n",
    "            \"Ana Clara Nepomuceno\",\n",
    "            \"Paula vieira\",\n",
    "            \"Ciro Nepomuceno\",\n",
    "            \"Maria Eduarda Nepomuceno\",\n",
    "            \"JOse Caçdeira\",\n",
    "            \"Augusta Ribeiro\",\n",
    "\n",
    "    ],\n",
    "        \"idade\":[45, 48, 25, 12, 18, 45, 80, 16, 73, 70],\n",
    "        \"cidade\":[\n",
    "            \"Araçuai\",\"Capanema\",\n",
    "            \"Vilhena\",\"Vilhena\",\n",
    "            \"Belo Horizonte\",\"Rio de Janeiro\",\n",
    "            \"Araçuai\",\"Curitiba\",\n",
    "            \"Araçuai\",\"Araçuai\"\n",
    "        ],\n",
    "        \"estado\":[\n",
    "            \"MG\",\"PR\",\n",
    "            \"RO\",\"RO\",\n",
    "            \"MG\",\"RJ\",\n",
    "            \"MG\",\"PR\",\n",
    "            \"MG\",\"MG\",\n",
    "        ],\n",
    "        \"sexo\":[\n",
    "            \"M\",\"F\",\n",
    "            \"M\",\"F\",\n",
    "            \"F\",\"F\",\n",
    "            \"M\",\"F\",\n",
    "            \"M\",\"F\"\n",
    "        ],\n",
    "        \"grau de instrução\":[\n",
    "            \"Mestrado\",\"Doutorado\",\n",
    "            \"Superior Completo\",\"Ensino Médio\",\n",
    "            \"Superior Completo\",\"Ensino Médio\",\n",
    "            \"Ensino Fundamental Incompleto\",\"Ensino Médio\",\n",
    "            \"Ensino Fundamental Incompleto\",\"Ensino Fundamental Incompleto\"\n",
    "        ],\n",
    "\n",
    "\n",
    "}\n",
    ")"
   ]
  },
  {
   "cell_type": "code",
   "execution_count": 5,
   "id": "79f20b86",
   "metadata": {},
   "outputs": [
    {
     "data": {
      "application/vnd.microsoft.datawrangler.viewer.v0+json": {
       "columns": [
        {
         "name": "index",
         "rawType": "int64",
         "type": "integer"
        },
        {
         "name": "Name",
         "rawType": "object",
         "type": "string"
        },
        {
         "name": "idade",
         "rawType": "int64",
         "type": "integer"
        },
        {
         "name": "cidade",
         "rawType": "object",
         "type": "string"
        },
        {
         "name": "estado",
         "rawType": "object",
         "type": "string"
        },
        {
         "name": "sexo",
         "rawType": "object",
         "type": "string"
        },
        {
         "name": "grau de instrução",
         "rawType": "object",
         "type": "string"
        }
       ],
       "ref": "086b9030-e891-4dfb-8bd2-9b99a8ddf4f4",
       "rows": [
        [
         "0",
         "Lucas Ribeiro",
         "45",
         "Araçuai",
         "MG",
         "M",
         "Mestrado"
        ],
        [
         "1",
         "Elenice Tizziani",
         "48",
         "Capanema",
         "PR",
         "F",
         "Doutorado"
        ],
        [
         "2",
         "Fernando Tizziani",
         "25",
         "Vilhena",
         "RO",
         "M",
         "Superior Completo"
        ],
        [
         "3",
         "Karem Nepomuceno",
         "12",
         "Vilhena",
         "RO",
         "F",
         "Ensino Médio"
        ],
        [
         "4",
         "Ana Clara Nepomuceno",
         "18",
         "Belo Horizonte",
         "MG",
         "F",
         "Superior Completo"
        ],
        [
         "5",
         "Paula vieira",
         "45",
         "Rio de Janeiro",
         "RJ",
         "F",
         "Ensino Médio"
        ],
        [
         "6",
         "Ciro Nepomuceno",
         "80",
         "Araçuai",
         "MG",
         "M",
         "Ensino Fundamental Incompleto"
        ],
        [
         "7",
         "Maria Eduarda Nepomuceno",
         "16",
         "Curitiba",
         "PR",
         "F",
         "Ensino Médio"
        ],
        [
         "8",
         "JOse Caçdeira",
         "73",
         "Araçuai",
         "MG",
         "M",
         "Ensino Fundamental Incompleto"
        ],
        [
         "9",
         "Augusta Ribeiro",
         "70",
         "Araçuai",
         "MG",
         "F",
         "Ensino Fundamental Incompleto"
        ]
       ],
       "shape": {
        "columns": 6,
        "rows": 10
       }
      },
      "text/html": [
       "<div>\n",
       "<style scoped>\n",
       "    .dataframe tbody tr th:only-of-type {\n",
       "        vertical-align: middle;\n",
       "    }\n",
       "\n",
       "    .dataframe tbody tr th {\n",
       "        vertical-align: top;\n",
       "    }\n",
       "\n",
       "    .dataframe thead th {\n",
       "        text-align: right;\n",
       "    }\n",
       "</style>\n",
       "<table border=\"1\" class=\"dataframe\">\n",
       "  <thead>\n",
       "    <tr style=\"text-align: right;\">\n",
       "      <th></th>\n",
       "      <th>Name</th>\n",
       "      <th>idade</th>\n",
       "      <th>cidade</th>\n",
       "      <th>estado</th>\n",
       "      <th>sexo</th>\n",
       "      <th>grau de instrução</th>\n",
       "    </tr>\n",
       "  </thead>\n",
       "  <tbody>\n",
       "    <tr>\n",
       "      <th>0</th>\n",
       "      <td>Lucas Ribeiro</td>\n",
       "      <td>45</td>\n",
       "      <td>Araçuai</td>\n",
       "      <td>MG</td>\n",
       "      <td>M</td>\n",
       "      <td>Mestrado</td>\n",
       "    </tr>\n",
       "    <tr>\n",
       "      <th>1</th>\n",
       "      <td>Elenice Tizziani</td>\n",
       "      <td>48</td>\n",
       "      <td>Capanema</td>\n",
       "      <td>PR</td>\n",
       "      <td>F</td>\n",
       "      <td>Doutorado</td>\n",
       "    </tr>\n",
       "    <tr>\n",
       "      <th>2</th>\n",
       "      <td>Fernando Tizziani</td>\n",
       "      <td>25</td>\n",
       "      <td>Vilhena</td>\n",
       "      <td>RO</td>\n",
       "      <td>M</td>\n",
       "      <td>Superior Completo</td>\n",
       "    </tr>\n",
       "    <tr>\n",
       "      <th>3</th>\n",
       "      <td>Karem Nepomuceno</td>\n",
       "      <td>12</td>\n",
       "      <td>Vilhena</td>\n",
       "      <td>RO</td>\n",
       "      <td>F</td>\n",
       "      <td>Ensino Médio</td>\n",
       "    </tr>\n",
       "    <tr>\n",
       "      <th>4</th>\n",
       "      <td>Ana Clara Nepomuceno</td>\n",
       "      <td>18</td>\n",
       "      <td>Belo Horizonte</td>\n",
       "      <td>MG</td>\n",
       "      <td>F</td>\n",
       "      <td>Superior Completo</td>\n",
       "    </tr>\n",
       "    <tr>\n",
       "      <th>5</th>\n",
       "      <td>Paula vieira</td>\n",
       "      <td>45</td>\n",
       "      <td>Rio de Janeiro</td>\n",
       "      <td>RJ</td>\n",
       "      <td>F</td>\n",
       "      <td>Ensino Médio</td>\n",
       "    </tr>\n",
       "    <tr>\n",
       "      <th>6</th>\n",
       "      <td>Ciro Nepomuceno</td>\n",
       "      <td>80</td>\n",
       "      <td>Araçuai</td>\n",
       "      <td>MG</td>\n",
       "      <td>M</td>\n",
       "      <td>Ensino Fundamental Incompleto</td>\n",
       "    </tr>\n",
       "    <tr>\n",
       "      <th>7</th>\n",
       "      <td>Maria Eduarda Nepomuceno</td>\n",
       "      <td>16</td>\n",
       "      <td>Curitiba</td>\n",
       "      <td>PR</td>\n",
       "      <td>F</td>\n",
       "      <td>Ensino Médio</td>\n",
       "    </tr>\n",
       "    <tr>\n",
       "      <th>8</th>\n",
       "      <td>JOse Caçdeira</td>\n",
       "      <td>73</td>\n",
       "      <td>Araçuai</td>\n",
       "      <td>MG</td>\n",
       "      <td>M</td>\n",
       "      <td>Ensino Fundamental Incompleto</td>\n",
       "    </tr>\n",
       "    <tr>\n",
       "      <th>9</th>\n",
       "      <td>Augusta Ribeiro</td>\n",
       "      <td>70</td>\n",
       "      <td>Araçuai</td>\n",
       "      <td>MG</td>\n",
       "      <td>F</td>\n",
       "      <td>Ensino Fundamental Incompleto</td>\n",
       "    </tr>\n",
       "  </tbody>\n",
       "</table>\n",
       "</div>"
      ],
      "text/plain": [
       "                       Name  idade          cidade estado sexo  \\\n",
       "0             Lucas Ribeiro     45         Araçuai     MG    M   \n",
       "1          Elenice Tizziani     48        Capanema     PR    F   \n",
       "2         Fernando Tizziani     25         Vilhena     RO    M   \n",
       "3          Karem Nepomuceno     12         Vilhena     RO    F   \n",
       "4      Ana Clara Nepomuceno     18  Belo Horizonte     MG    F   \n",
       "5              Paula vieira     45  Rio de Janeiro     RJ    F   \n",
       "6           Ciro Nepomuceno     80         Araçuai     MG    M   \n",
       "7  Maria Eduarda Nepomuceno     16        Curitiba     PR    F   \n",
       "8             JOse Caçdeira     73         Araçuai     MG    M   \n",
       "9           Augusta Ribeiro     70         Araçuai     MG    F   \n",
       "\n",
       "               grau de instrução  \n",
       "0                       Mestrado  \n",
       "1                      Doutorado  \n",
       "2              Superior Completo  \n",
       "3                   Ensino Médio  \n",
       "4              Superior Completo  \n",
       "5                   Ensino Médio  \n",
       "6  Ensino Fundamental Incompleto  \n",
       "7                   Ensino Médio  \n",
       "8  Ensino Fundamental Incompleto  \n",
       "9  Ensino Fundamental Incompleto  "
      ]
     },
     "execution_count": 5,
     "metadata": {},
     "output_type": "execute_result"
    }
   ],
   "source": [
    "df"
   ]
  }
 ],
 "metadata": {
  "kernelspec": {
   "display_name": "Anbiente-teste",
   "language": "python",
   "name": "python3"
  },
  "language_info": {
   "codemirror_mode": {
    "name": "ipython",
    "version": 3
   },
   "file_extension": ".py",
   "mimetype": "text/x-python",
   "name": "python",
   "nbconvert_exporter": "python",
   "pygments_lexer": "ipython3",
   "version": "3.11.9"
  }
 },
 "nbformat": 4,
 "nbformat_minor": 5
}
